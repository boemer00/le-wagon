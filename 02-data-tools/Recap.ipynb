{
 "cells": [
  {
   "cell_type": "markdown",
   "metadata": {},
   "source": [
    "# CSV + API\n",
    "\n",
    "In this reboot, we are going to use:\n",
    "\n",
    "- The [Goodreads books](https://www.kaggle.com/jealousleopard/goodreadsbooks) dataset from Kaggle.\n",
    "- The [Open Library Books API](https://openlibrary.org/dev/docs/api/books)\n",
    "\n",
    "The goal of this livecode is to load the data from a CSV + loop over rows to enrich each row with information such as:\n",
    "\n",
    "- List of subjects (Science, Humor, Travel, etc.)\n",
    "- The cover URL of the book\n",
    "- Other information you'd find useful in the JSON API"
   ]
  },
  {
   "cell_type": "markdown",
   "metadata": {},
   "source": [
    "First, download the CSV in the local folder:"
   ]
  },
  {
   "cell_type": "code",
   "execution_count": 1,
   "metadata": {
    "ExecuteTime": {
     "end_time": "2021-04-27T16:03:06.917524Z",
     "start_time": "2021-04-27T16:03:06.166755Z"
    }
   },
   "outputs": [
    {
     "name": "stdout",
     "output_type": "stream",
     "text": [
      "  % Total    % Received % Xferd  Average Speed   Time    Time     Time  Current\n",
      "                                 Dload  Upload   Total   Spent    Left  Speed\n",
      "100 1509k  100 1509k    0     0   793k      0  0:00:01  0:00:01 --:--:--  793k\n"
     ]
    }
   ],
   "source": [
    "!curl -L https://gist.githubusercontent.com/ssaunier/351b17f5a7a009808b60aeacd1f4a036/raw/books.csv > books.csv"
   ]
  },
  {
   "cell_type": "code",
   "execution_count": 2,
   "metadata": {
    "ExecuteTime": {
     "end_time": "2021-04-27T16:03:07.087704Z",
     "start_time": "2021-04-27T16:03:06.961381Z"
    }
   },
   "outputs": [
    {
     "name": "stdout",
     "output_type": "stream",
     "text": [
      "total 4344\r\n",
      "-rw-r--r--  1 renatoboemer  staff   579B Apr 19 15:07 README.md\r\n",
      "-rw-r--r--@ 1 renatoboemer  staff    38K Apr 27 20:09 Recap.ipynb\r\n",
      "-rw-r--r--  1 renatoboemer  staff    13K Apr 27 18:12 Recap1.ipynb\r\n",
      "-rw-r--r--  1 renatoboemer  staff   1.5M Apr 27 20:17 books.csv\r\n"
     ]
    }
   ],
   "source": [
    "!ls -lh"
   ]
  },
  {
   "cell_type": "markdown",
   "metadata": {},
   "source": [
    "Then import the usual suspects!"
   ]
  },
  {
   "cell_type": "code",
   "execution_count": 3,
   "metadata": {
    "ExecuteTime": {
     "end_time": "2021-04-27T18:27:10.046659Z",
     "start_time": "2021-04-27T18:27:09.786652Z"
    }
   },
   "outputs": [],
   "source": [
    "# your turn!\n",
    "import pandas as pd\n",
    "import requests"
   ]
  },
  {
   "cell_type": "code",
   "execution_count": 4,
   "metadata": {
    "ExecuteTime": {
     "end_time": "2021-04-27T18:27:41.384153Z",
     "start_time": "2021-04-27T18:27:41.337032Z"
    }
   },
   "outputs": [
    {
     "data": {
      "text/html": [
       "<div>\n",
       "<style scoped>\n",
       "    .dataframe tbody tr th:only-of-type {\n",
       "        vertical-align: middle;\n",
       "    }\n",
       "\n",
       "    .dataframe tbody tr th {\n",
       "        vertical-align: top;\n",
       "    }\n",
       "\n",
       "    .dataframe thead th {\n",
       "        text-align: right;\n",
       "    }\n",
       "</style>\n",
       "<table border=\"1\" class=\"dataframe\">\n",
       "  <thead>\n",
       "    <tr style=\"text-align: right;\">\n",
       "      <th></th>\n",
       "      <th>bookID</th>\n",
       "      <th>title</th>\n",
       "      <th>authors</th>\n",
       "      <th>average_rating</th>\n",
       "      <th>isbn</th>\n",
       "      <th>isbn13</th>\n",
       "      <th>language_code</th>\n",
       "      <th># num_pages</th>\n",
       "      <th>ratings_count</th>\n",
       "      <th>text_reviews_count</th>\n",
       "    </tr>\n",
       "  </thead>\n",
       "  <tbody>\n",
       "    <tr>\n",
       "      <th>0</th>\n",
       "      <td>1</td>\n",
       "      <td>Harry Potter and the Half-Blood Prince (Harry ...</td>\n",
       "      <td>J.K. Rowling-Mary GrandPré</td>\n",
       "      <td>4.56</td>\n",
       "      <td>0439785960</td>\n",
       "      <td>9780439785969</td>\n",
       "      <td>eng</td>\n",
       "      <td>652</td>\n",
       "      <td>1944099</td>\n",
       "      <td>26249</td>\n",
       "    </tr>\n",
       "    <tr>\n",
       "      <th>1</th>\n",
       "      <td>2</td>\n",
       "      <td>Harry Potter and the Order of the Phoenix (Har...</td>\n",
       "      <td>J.K. Rowling-Mary GrandPré</td>\n",
       "      <td>4.49</td>\n",
       "      <td>0439358078</td>\n",
       "      <td>9780439358071</td>\n",
       "      <td>eng</td>\n",
       "      <td>870</td>\n",
       "      <td>1996446</td>\n",
       "      <td>27613</td>\n",
       "    </tr>\n",
       "    <tr>\n",
       "      <th>2</th>\n",
       "      <td>3</td>\n",
       "      <td>Harry Potter and the Sorcerer's Stone (Harry P...</td>\n",
       "      <td>J.K. Rowling-Mary GrandPré</td>\n",
       "      <td>4.47</td>\n",
       "      <td>0439554934</td>\n",
       "      <td>9780439554930</td>\n",
       "      <td>eng</td>\n",
       "      <td>320</td>\n",
       "      <td>5629932</td>\n",
       "      <td>70390</td>\n",
       "    </tr>\n",
       "    <tr>\n",
       "      <th>3</th>\n",
       "      <td>4</td>\n",
       "      <td>Harry Potter and the Chamber of Secrets (Harry...</td>\n",
       "      <td>J.K. Rowling</td>\n",
       "      <td>4.41</td>\n",
       "      <td>0439554896</td>\n",
       "      <td>9780439554893</td>\n",
       "      <td>eng</td>\n",
       "      <td>352</td>\n",
       "      <td>6267</td>\n",
       "      <td>272</td>\n",
       "    </tr>\n",
       "    <tr>\n",
       "      <th>4</th>\n",
       "      <td>5</td>\n",
       "      <td>Harry Potter and the Prisoner of Azkaban (Harr...</td>\n",
       "      <td>J.K. Rowling-Mary GrandPré</td>\n",
       "      <td>4.55</td>\n",
       "      <td>043965548X</td>\n",
       "      <td>9780439655484</td>\n",
       "      <td>eng</td>\n",
       "      <td>435</td>\n",
       "      <td>2149872</td>\n",
       "      <td>33964</td>\n",
       "    </tr>\n",
       "  </tbody>\n",
       "</table>\n",
       "</div>"
      ],
      "text/plain": [
       "   bookID                                              title  \\\n",
       "0       1  Harry Potter and the Half-Blood Prince (Harry ...   \n",
       "1       2  Harry Potter and the Order of the Phoenix (Har...   \n",
       "2       3  Harry Potter and the Sorcerer's Stone (Harry P...   \n",
       "3       4  Harry Potter and the Chamber of Secrets (Harry...   \n",
       "4       5  Harry Potter and the Prisoner of Azkaban (Harr...   \n",
       "\n",
       "                      authors  average_rating        isbn         isbn13  \\\n",
       "0  J.K. Rowling-Mary GrandPré            4.56  0439785960  9780439785969   \n",
       "1  J.K. Rowling-Mary GrandPré            4.49  0439358078  9780439358071   \n",
       "2  J.K. Rowling-Mary GrandPré            4.47  0439554934  9780439554930   \n",
       "3                J.K. Rowling            4.41  0439554896  9780439554893   \n",
       "4  J.K. Rowling-Mary GrandPré            4.55  043965548X  9780439655484   \n",
       "\n",
       "  language_code  # num_pages  ratings_count  text_reviews_count  \n",
       "0           eng          652        1944099               26249  \n",
       "1           eng          870        1996446               27613  \n",
       "2           eng          320        5629932               70390  \n",
       "3           eng          352           6267                 272  \n",
       "4           eng          435        2149872               33964  "
      ]
     },
     "execution_count": 4,
     "metadata": {},
     "output_type": "execute_result"
    }
   ],
   "source": [
    "# Load our df \n",
    "books_df = pd.read_csv('books.csv')\n",
    "books_df.head()"
   ]
  },
  {
   "cell_type": "code",
   "execution_count": 5,
   "metadata": {
    "ExecuteTime": {
     "end_time": "2021-04-27T18:27:44.804322Z",
     "start_time": "2021-04-27T18:27:44.796449Z"
    }
   },
   "outputs": [
    {
     "data": {
      "text/plain": [
       "bookID                0\n",
       "title                 0\n",
       "authors               0\n",
       "average_rating        0\n",
       "isbn                  0\n",
       "isbn13                0\n",
       "language_code         0\n",
       "# num_pages           0\n",
       "ratings_count         0\n",
       "text_reviews_count    0\n",
       "dtype: int64"
      ]
     },
     "execution_count": 5,
     "metadata": {},
     "output_type": "execute_result"
    }
   ],
   "source": [
    "# Let's check for nulls to drop columns / rows\n",
    "books_df.isnull().sum()"
   ]
  },
  {
   "cell_type": "code",
   "execution_count": 22,
   "metadata": {
    "ExecuteTime": {
     "end_time": "2021-04-27T18:27:53.951354Z",
     "start_time": "2021-04-27T18:27:53.947285Z"
    }
   },
   "outputs": [],
   "source": [
    "# Check API and figure out a fetch function\n",
    "BASE_URL = \"https://openlibrary.org/api/books?\"\n",
    "\n",
    "def fetch_book_details(isbn):\n",
    "    key = f\"ISBN:{isbn}\"\n",
    "    param_dict = {'bibkeys': key, \"format\": 'json', 'jscmd': 'data'}\n",
    "    response = requests.get(BASE_URL, params=param_dict)\n",
    "    # we can check our response url for invalid ISBN's\n",
    "    # looks like we get 200 response but empyt dicts\n",
    "    # print(response.url)\n",
    "    if response.json():\n",
    "        return response.json()[key]\n",
    "    return None       \n",
    "\n"
   ]
  },
  {
   "cell_type": "code",
   "execution_count": 23,
   "metadata": {
    "ExecuteTime": {
     "end_time": "2021-04-27T18:27:55.635633Z",
     "start_time": "2021-04-27T18:27:54.386421Z"
    }
   },
   "outputs": [
    {
     "name": "stdout",
     "output_type": "stream",
     "text": [
      "None\n"
     ]
    }
   ],
   "source": [
    "# Lets check our function with a valid ISBN and not\n",
    "print(fetch_book_details('not a book'))\n",
    "book = fetch_book_details(9780439785969)"
   ]
  },
  {
   "cell_type": "code",
   "execution_count": 8,
   "metadata": {
    "ExecuteTime": {
     "end_time": "2021-04-27T18:27:55.949523Z",
     "start_time": "2021-04-27T18:27:55.946884Z"
    }
   },
   "outputs": [],
   "source": [
    "# retrieve our cover photo from the fetch\n",
    "def get_cover(book):\n",
    "    return book.get('cover', {}).get('large')"
   ]
  },
  {
   "cell_type": "code",
   "execution_count": 9,
   "metadata": {
    "ExecuteTime": {
     "end_time": "2021-04-27T18:27:56.226635Z",
     "start_time": "2021-04-27T18:27:56.222584Z"
    }
   },
   "outputs": [
    {
     "name": "stdout",
     "output_type": "stream",
     "text": [
      "None\n"
     ]
    },
    {
     "data": {
      "text/plain": [
       "'https://covers.openlibrary.org/b/id/9326654-L.jpg'"
      ]
     },
     "execution_count": 9,
     "metadata": {},
     "output_type": "execute_result"
    }
   ],
   "source": [
    "# Lets check our function with a valid response and not\n",
    "print(get_cover({}))\n",
    "get_cover(book)"
   ]
  },
  {
   "cell_type": "code",
   "execution_count": 10,
   "metadata": {
    "ExecuteTime": {
     "end_time": "2021-04-27T18:27:57.726704Z",
     "start_time": "2021-04-27T18:27:57.723408Z"
    }
   },
   "outputs": [],
   "source": [
    "# retrieve our subjects from the fetch\n",
    "def get_subject(book):\n",
    "    subjects_list = book.get('subjects', [])\n",
    "    return ', '.join([subject.get('name', None) for subject in subjects_list])"
   ]
  },
  {
   "cell_type": "code",
   "execution_count": 11,
   "metadata": {
    "ExecuteTime": {
     "end_time": "2021-04-27T18:28:08.684031Z",
     "start_time": "2021-04-27T18:28:08.679814Z"
    }
   },
   "outputs": [
    {
     "name": "stdout",
     "output_type": "stream",
     "text": [
      "\n"
     ]
    },
    {
     "data": {
      "text/plain": [
       "\"orphans, foster homes, romans, magie, adolescence, Quill Award winner, Scottish Children’s Book Award winner, British Book of the Year Award winner, Fiction, Juvenile fiction, Magic, Schools, Witches, Wizards, New York Times bestseller, Fantasy fiction, nyt:series_books=2006-07-15, nyt:series_books=2006-09-16, Romans, nouvelles, etc. pour la jeunesse, Sorciers, Roman fantastique, Merveilleux, Hogwarts School of Witchcraft and Wizardry (Imaginary place), Harry Potter (Fictitious character), Hogwarts School of Witchcraft and Wizardry (Imaginary organization), Magos, Magia, Ficción juvenil, Escuelas, Novela fantástica, England, School stories, Family, Harry Potter (Fictional character), Orphans & Foster Homes, Social Themes, Fantasy, Fantasy & Magic, Friendship, Reading Level-Grade 11, Reading Level-Grade 10, Reading Level-Grade 12, England, fiction, Magic, fiction, Schools, fiction, Children's fiction, Potter, harry (fictitious character), fiction, Wizards, fiction, Hogwarts school of witchcraft and wizardry (imaginary organization), fiction, Large type books, Bengali Detective and mystery stories, Hermione Granger (Fictitious character), Ron Weasley (Fictitious character)\""
      ]
     },
     "execution_count": 11,
     "metadata": {},
     "output_type": "execute_result"
    }
   ],
   "source": [
    "# Lets check our function with a valid response and not\n",
    "print(get_subject({}))\n",
    "get_subject(book)"
   ]
  },
  {
   "cell_type": "code",
   "execution_count": 12,
   "metadata": {
    "ExecuteTime": {
     "end_time": "2021-04-27T18:28:28.332477Z",
     "start_time": "2021-04-27T18:28:28.329399Z"
    }
   },
   "outputs": [],
   "source": [
    "# retrieve our publisher (limit 1) and publish date from the fetch\n",
    "# as a tuple\n",
    "def get_publisher(book):\n",
    "    publisher = book.get('publishers', [{}])[0].get('name')\n",
    "    date = book.get('publish_date')\n",
    "    return (publisher, date)"
   ]
  },
  {
   "cell_type": "code",
   "execution_count": 13,
   "metadata": {
    "ExecuteTime": {
     "end_time": "2021-04-27T18:28:29.025452Z",
     "start_time": "2021-04-27T18:28:29.021133Z"
    }
   },
   "outputs": [
    {
     "name": "stdout",
     "output_type": "stream",
     "text": [
      "(None, None)\n"
     ]
    },
    {
     "data": {
      "text/plain": [
       "('Scholastic', '2006-09')"
      ]
     },
     "execution_count": 13,
     "metadata": {},
     "output_type": "execute_result"
    }
   ],
   "source": [
    "# Lets check our function with a valid response and not\n",
    "print(get_publisher({}))\n",
    "get_publisher(book)"
   ]
  },
  {
   "cell_type": "code",
   "execution_count": 14,
   "metadata": {},
   "outputs": [
    {
     "name": "stdout",
     "output_type": "stream",
     "text": [
      "Requirement already satisfied: tqdm in /Users/renatoboemer/.pyenv/versions/3.8.6/envs/lewagon/lib/python3.8/site-packages (4.60.0)\n",
      "\u001b[33mWARNING: You are using pip version 21.0.1; however, version 21.1 is available.\n",
      "You should consider upgrading via the '/Users/renatoboemer/.pyenv/versions/3.8.6/envs/lewagon/bin/python3.8 -m pip install --upgrade pip' command.\u001b[0m\n"
     ]
    }
   ],
   "source": [
    "# Install the tqdm package so we can see a progress bar on our loop\n",
    "!pip install tqdm"
   ]
  },
  {
   "cell_type": "code",
   "execution_count": 15,
   "metadata": {
    "ExecuteTime": {
     "end_time": "2021-04-27T18:41:27.503811Z",
     "start_time": "2021-04-27T18:40:20.254000Z"
    }
   },
   "outputs": [
    {
     "name": "stderr",
     "output_type": "stream",
     "text": [
      "101it [01:18,  1.29it/s]                         \n"
     ]
    }
   ],
   "source": [
    "from tqdm import tqdm\n",
    "\n",
    "# Use iterrows to loop through our df and add a Cover, Subject, Publisher, Date column\n",
    "# With our small functions - we can be more dynamic with the columns we want to add\n",
    "# ex removing \"cover\" from COLUMNS our loop will still work for all other columns\n",
    "COLUMNS = ['Cover', 'Publisher', 'Date', 'Subjects']\n",
    "books_df[COLUMNS] = ''\n",
    "\n",
    "# wrapping our books_df.iterrows() in a tqdm function gives us a progress bar\n",
    "# ~1.5 - 2 iterations a second ~2.5 hours to call api for the full dataframe\n",
    "for index, row in tqdm(books_df.loc[:100,:].iterrows(), total=100):\n",
    "    book = fetch_book_details(row['isbn13'])\n",
    "    # Make sure our ISBN worked     \n",
    "    if book:\n",
    "        if \"Cover\" in COLUMNS:\n",
    "            books_df.loc[index, 'Cover'] = get_cover(book)\n",
    "        if \"Subjects\" in COLUMNS:\n",
    "            # if get_subject returns a list\n",
    "            # books_df.at[index, 'Subjects'] = get_subject(book)\n",
    "            # if get_subject returns a string\n",
    "            books_df.at[index, 'Subjects'] = get_subject(book)\n",
    "        # if we convert our list to a `set` we can search for a subset (multiple items)         \n",
    "        if set(['Publisher', 'Date']).issubset(set(COLUMNS)):\n",
    "            books_df.loc[index, ['Publisher', 'Date']] = get_publisher(book)\n"
   ]
  },
  {
   "cell_type": "code",
   "execution_count": 16,
   "metadata": {
    "ExecuteTime": {
     "end_time": "2021-04-27T18:46:07.147369Z",
     "start_time": "2021-04-27T18:46:07.132165Z"
    }
   },
   "outputs": [
    {
     "data": {
      "text/html": [
       "<div>\n",
       "<style scoped>\n",
       "    .dataframe tbody tr th:only-of-type {\n",
       "        vertical-align: middle;\n",
       "    }\n",
       "\n",
       "    .dataframe tbody tr th {\n",
       "        vertical-align: top;\n",
       "    }\n",
       "\n",
       "    .dataframe thead th {\n",
       "        text-align: right;\n",
       "    }\n",
       "</style>\n",
       "<table border=\"1\" class=\"dataframe\">\n",
       "  <thead>\n",
       "    <tr style=\"text-align: right;\">\n",
       "      <th></th>\n",
       "      <th>Cover</th>\n",
       "      <th>Publisher</th>\n",
       "      <th>Date</th>\n",
       "      <th>Subjects</th>\n",
       "    </tr>\n",
       "  </thead>\n",
       "  <tbody>\n",
       "    <tr>\n",
       "      <th>0</th>\n",
       "      <td>https://covers.openlibrary.org/b/id/9326654-L.jpg</td>\n",
       "      <td>Scholastic</td>\n",
       "      <td>2006-09</td>\n",
       "      <td>orphans, foster homes, romans, magie, adolesce...</td>\n",
       "    </tr>\n",
       "    <tr>\n",
       "      <th>1</th>\n",
       "      <td>https://covers.openlibrary.org/b/id/10716165-L...</td>\n",
       "      <td>Scholastic</td>\n",
       "      <td>2004-09</td>\n",
       "      <td>Children's Books/Ages 9-12 Fiction, Witches an...</td>\n",
       "    </tr>\n",
       "    <tr>\n",
       "      <th>2</th>\n",
       "      <td>https://covers.openlibrary.org/b/id/7572543-L.jpg</td>\n",
       "      <td>Arthur A. Levine Books</td>\n",
       "      <td>2003</td>\n",
       "      <td>Ghosts, Monsters, Vampires, Witches, Challenge...</td>\n",
       "    </tr>\n",
       "    <tr>\n",
       "      <th>3</th>\n",
       "      <td>https://covers.openlibrary.org/b/id/10301720-L...</td>\n",
       "      <td>Arthur A. Levine Books</td>\n",
       "      <td>Nov 01, 2003</td>\n",
       "      <td>Fantasy fiction, school stories, Fiction, Fant...</td>\n",
       "    </tr>\n",
       "    <tr>\n",
       "      <th>4</th>\n",
       "      <td>https://covers.openlibrary.org/b/id/10580458-L...</td>\n",
       "      <td>Bloomsbury</td>\n",
       "      <td>September 1, 2014</td>\n",
       "      <td>fantasy fiction, orphans, foster homes, fantas...</td>\n",
       "    </tr>\n",
       "    <tr>\n",
       "      <th>5</th>\n",
       "      <td>https://covers.openlibrary.org/b/id/278981-L.jpg</td>\n",
       "      <td>Scholastic Inc.</td>\n",
       "      <td>October 1, 2004</td>\n",
       "      <td>Potter, harry (fictitious character), fiction,...</td>\n",
       "    </tr>\n",
       "    <tr>\n",
       "      <th>6</th>\n",
       "      <td>https://covers.openlibrary.org/b/id/742235-L.jpg</td>\n",
       "      <td>Nimble Books</td>\n",
       "      <td>April 26, 2005</td>\n",
       "      <td>Characters, Harry Potter, Children's stories, ...</td>\n",
       "    </tr>\n",
       "    <tr>\n",
       "      <th>7</th>\n",
       "      <td>https://covers.openlibrary.org/b/id/279436-L.jpg</td>\n",
       "      <td>Arthur A. Levine Books</td>\n",
       "      <td>October 1, 2005</td>\n",
       "      <td>England, fiction, Fantasy fiction, Magic, fict...</td>\n",
       "    </tr>\n",
       "    <tr>\n",
       "      <th>8</th>\n",
       "      <td>https://covers.openlibrary.org/b/id/321859-L.jpg</td>\n",
       "      <td>Gramercy Books</td>\n",
       "      <td>2005</td>\n",
       "      <td>comic science fiction, Vogons, Humorous fictio...</td>\n",
       "    </tr>\n",
       "    <tr>\n",
       "      <th>9</th>\n",
       "      <td>None</td>\n",
       "      <td>Del Rey</td>\n",
       "      <td>1996</td>\n",
       "      <td>comic science fiction, Vogons, Humorous fictio...</td>\n",
       "    </tr>\n",
       "    <tr>\n",
       "      <th>10</th>\n",
       "      <td>https://covers.openlibrary.org/b/id/10176291-L...</td>\n",
       "      <td>Harmony Books</td>\n",
       "      <td>2004</td>\n",
       "      <td>comic science fiction, Vogons, Humorous fictio...</td>\n",
       "    </tr>\n",
       "    <tr>\n",
       "      <th>11</th>\n",
       "      <td>https://covers.openlibrary.org/b/id/8769632-L.jpg</td>\n",
       "      <td>Random House Audio</td>\n",
       "      <td>Mar 29, 2005</td>\n",
       "      <td>comic science fiction, Vogons, Humorous fictio...</td>\n",
       "    </tr>\n",
       "    <tr>\n",
       "      <th>12</th>\n",
       "      <td>https://covers.openlibrary.org/b/id/7892560-L.jpg</td>\n",
       "      <td>Wings Books</td>\n",
       "      <td>1996</td>\n",
       "      <td>comic science fiction, Vogons, Humorous fictio...</td>\n",
       "    </tr>\n",
       "    <tr>\n",
       "      <th>13</th>\n",
       "      <td>https://covers.openlibrary.org/b/id/10827034-L...</td>\n",
       "      <td>Broadway Books</td>\n",
       "      <td>2004</td>\n",
       "      <td>Science, Popular works, Obras de divulgacio n....</td>\n",
       "    </tr>\n",
       "    <tr>\n",
       "      <th>14</th>\n",
       "      <td>https://covers.openlibrary.org/b/id/6815851-L.jpg</td>\n",
       "      <td>Broadway Books</td>\n",
       "      <td>2002</td>\n",
       "      <td>Travel, Description and travel, CARE (Firm)</td>\n",
       "    </tr>\n",
       "    <tr>\n",
       "      <th>15</th>\n",
       "      <td>https://covers.openlibrary.org/b/id/6513848-L.jpg</td>\n",
       "      <td>Broadway Books</td>\n",
       "      <td>2002</td>\n",
       "      <td>Usage, Dictionaries, English language, Languag...</td>\n",
       "    </tr>\n",
       "    <tr>\n",
       "      <th>16</th>\n",
       "      <td>https://covers.openlibrary.org/b/id/6280049-L.jpg</td>\n",
       "      <td>Broadway Books</td>\n",
       "      <td>2001</td>\n",
       "      <td>Social life and customs, Description and trave...</td>\n",
       "    </tr>\n",
       "    <tr>\n",
       "      <th>17</th>\n",
       "      <td>https://covers.openlibrary.org/b/id/527681-L.jpg</td>\n",
       "      <td>Broadway</td>\n",
       "      <td>June 6, 2000</td>\n",
       "      <td>Biography &amp; Autobiography, Nonfiction, Social ...</td>\n",
       "    </tr>\n",
       "    <tr>\n",
       "      <th>18</th>\n",
       "      <td>https://covers.openlibrary.org/b/id/39893-L.jpg</td>\n",
       "      <td>Harper Perennial</td>\n",
       "      <td>September 12, 1990</td>\n",
       "      <td>Travel, Nonfiction, Cities and towns, Descript...</td>\n",
       "    </tr>\n",
       "    <tr>\n",
       "      <th>19</th>\n",
       "      <td>https://covers.openlibrary.org/b/id/6543636-L.jpg</td>\n",
       "      <td>Avon</td>\n",
       "      <td>1992</td>\n",
       "      <td>Travel, Description and travel, Europe, descri...</td>\n",
       "    </tr>\n",
       "  </tbody>\n",
       "</table>\n",
       "</div>"
      ],
      "text/plain": [
       "                                                Cover               Publisher  \\\n",
       "0   https://covers.openlibrary.org/b/id/9326654-L.jpg              Scholastic   \n",
       "1   https://covers.openlibrary.org/b/id/10716165-L...              Scholastic   \n",
       "2   https://covers.openlibrary.org/b/id/7572543-L.jpg  Arthur A. Levine Books   \n",
       "3   https://covers.openlibrary.org/b/id/10301720-L...  Arthur A. Levine Books   \n",
       "4   https://covers.openlibrary.org/b/id/10580458-L...              Bloomsbury   \n",
       "5    https://covers.openlibrary.org/b/id/278981-L.jpg         Scholastic Inc.   \n",
       "6    https://covers.openlibrary.org/b/id/742235-L.jpg            Nimble Books   \n",
       "7    https://covers.openlibrary.org/b/id/279436-L.jpg  Arthur A. Levine Books   \n",
       "8    https://covers.openlibrary.org/b/id/321859-L.jpg          Gramercy Books   \n",
       "9                                                None                 Del Rey   \n",
       "10  https://covers.openlibrary.org/b/id/10176291-L...           Harmony Books   \n",
       "11  https://covers.openlibrary.org/b/id/8769632-L.jpg      Random House Audio   \n",
       "12  https://covers.openlibrary.org/b/id/7892560-L.jpg             Wings Books   \n",
       "13  https://covers.openlibrary.org/b/id/10827034-L...          Broadway Books   \n",
       "14  https://covers.openlibrary.org/b/id/6815851-L.jpg          Broadway Books   \n",
       "15  https://covers.openlibrary.org/b/id/6513848-L.jpg          Broadway Books   \n",
       "16  https://covers.openlibrary.org/b/id/6280049-L.jpg          Broadway Books   \n",
       "17   https://covers.openlibrary.org/b/id/527681-L.jpg                Broadway   \n",
       "18    https://covers.openlibrary.org/b/id/39893-L.jpg        Harper Perennial   \n",
       "19  https://covers.openlibrary.org/b/id/6543636-L.jpg                    Avon   \n",
       "\n",
       "                  Date                                           Subjects  \n",
       "0              2006-09  orphans, foster homes, romans, magie, adolesce...  \n",
       "1              2004-09  Children's Books/Ages 9-12 Fiction, Witches an...  \n",
       "2                 2003  Ghosts, Monsters, Vampires, Witches, Challenge...  \n",
       "3         Nov 01, 2003  Fantasy fiction, school stories, Fiction, Fant...  \n",
       "4    September 1, 2014  fantasy fiction, orphans, foster homes, fantas...  \n",
       "5      October 1, 2004  Potter, harry (fictitious character), fiction,...  \n",
       "6       April 26, 2005  Characters, Harry Potter, Children's stories, ...  \n",
       "7      October 1, 2005  England, fiction, Fantasy fiction, Magic, fict...  \n",
       "8                 2005  comic science fiction, Vogons, Humorous fictio...  \n",
       "9                 1996  comic science fiction, Vogons, Humorous fictio...  \n",
       "10                2004  comic science fiction, Vogons, Humorous fictio...  \n",
       "11        Mar 29, 2005  comic science fiction, Vogons, Humorous fictio...  \n",
       "12                1996  comic science fiction, Vogons, Humorous fictio...  \n",
       "13                2004  Science, Popular works, Obras de divulgacio n....  \n",
       "14                2002        Travel, Description and travel, CARE (Firm)  \n",
       "15                2002  Usage, Dictionaries, English language, Languag...  \n",
       "16                2001  Social life and customs, Description and trave...  \n",
       "17        June 6, 2000  Biography & Autobiography, Nonfiction, Social ...  \n",
       "18  September 12, 1990  Travel, Nonfiction, Cities and towns, Descript...  \n",
       "19                1992  Travel, Description and travel, Europe, descri...  "
      ]
     },
     "execution_count": 16,
     "metadata": {},
     "output_type": "execute_result"
    }
   ],
   "source": [
    "books_df[COLUMNS].head(20)"
   ]
  },
  {
   "cell_type": "markdown",
   "metadata": {},
   "source": [
    "## Using Apply Function"
   ]
  },
  {
   "cell_type": "code",
   "execution_count": 17,
   "metadata": {
    "ExecuteTime": {
     "end_time": "2021-04-27T18:44:31.796771Z",
     "start_time": "2021-04-27T18:44:31.793865Z"
    }
   },
   "outputs": [],
   "source": [
    "def cover_from_apply(row):\n",
    "    book = fetch_book_details(row['isbn13'])\n",
    "    if book:\n",
    "        return book.get('cover', {}).get('large')\n",
    "    "
   ]
  },
  {
   "cell_type": "code",
   "execution_count": 18,
   "metadata": {
    "ExecuteTime": {
     "end_time": "2021-04-27T18:51:14.778198Z",
     "start_time": "2021-04-27T18:51:14.739958Z"
    },
    "scrolled": true
   },
   "outputs": [],
   "source": [
    "books_df2 = pd.read_csv('books.csv')\n",
    "\n",
    "books_df2['Cover']  = ''"
   ]
  },
  {
   "cell_type": "code",
   "execution_count": 19,
   "metadata": {
    "ExecuteTime": {
     "end_time": "2021-04-27T18:52:23.609849Z",
     "start_time": "2021-04-27T18:51:18.170963Z"
    }
   },
   "outputs": [
    {
     "name": "stdout",
     "output_type": "stream",
     "text": [
      "CPU times: user 1.75 s, sys: 124 ms, total: 1.88 s\n",
      "Wall time: 1min 16s\n"
     ]
    }
   ],
   "source": [
    "%%time\n",
    "books_df2.loc[:100, 'Cover'] = books_df2.loc[:100,:].apply(lambda x: cover_from_apply(x), axis=1) "
   ]
  },
  {
   "cell_type": "code",
   "execution_count": 20,
   "metadata": {
    "ExecuteTime": {
     "end_time": "2021-04-27T18:52:23.678534Z",
     "start_time": "2021-04-27T18:52:23.665941Z"
    }
   },
   "outputs": [
    {
     "data": {
      "text/html": [
       "<div>\n",
       "<style scoped>\n",
       "    .dataframe tbody tr th:only-of-type {\n",
       "        vertical-align: middle;\n",
       "    }\n",
       "\n",
       "    .dataframe tbody tr th {\n",
       "        vertical-align: top;\n",
       "    }\n",
       "\n",
       "    .dataframe thead th {\n",
       "        text-align: right;\n",
       "    }\n",
       "</style>\n",
       "<table border=\"1\" class=\"dataframe\">\n",
       "  <thead>\n",
       "    <tr style=\"text-align: right;\">\n",
       "      <th></th>\n",
       "      <th>bookID</th>\n",
       "      <th>title</th>\n",
       "      <th>authors</th>\n",
       "      <th>average_rating</th>\n",
       "      <th>isbn</th>\n",
       "      <th>isbn13</th>\n",
       "      <th>language_code</th>\n",
       "      <th># num_pages</th>\n",
       "      <th>ratings_count</th>\n",
       "      <th>text_reviews_count</th>\n",
       "      <th>Cover</th>\n",
       "    </tr>\n",
       "  </thead>\n",
       "  <tbody>\n",
       "    <tr>\n",
       "      <th>0</th>\n",
       "      <td>1</td>\n",
       "      <td>Harry Potter and the Half-Blood Prince (Harry ...</td>\n",
       "      <td>J.K. Rowling-Mary GrandPré</td>\n",
       "      <td>4.56</td>\n",
       "      <td>0439785960</td>\n",
       "      <td>9780439785969</td>\n",
       "      <td>eng</td>\n",
       "      <td>652</td>\n",
       "      <td>1944099</td>\n",
       "      <td>26249</td>\n",
       "      <td>https://covers.openlibrary.org/b/id/9326654-L.jpg</td>\n",
       "    </tr>\n",
       "    <tr>\n",
       "      <th>1</th>\n",
       "      <td>2</td>\n",
       "      <td>Harry Potter and the Order of the Phoenix (Har...</td>\n",
       "      <td>J.K. Rowling-Mary GrandPré</td>\n",
       "      <td>4.49</td>\n",
       "      <td>0439358078</td>\n",
       "      <td>9780439358071</td>\n",
       "      <td>eng</td>\n",
       "      <td>870</td>\n",
       "      <td>1996446</td>\n",
       "      <td>27613</td>\n",
       "      <td>https://covers.openlibrary.org/b/id/10716165-L...</td>\n",
       "    </tr>\n",
       "    <tr>\n",
       "      <th>2</th>\n",
       "      <td>3</td>\n",
       "      <td>Harry Potter and the Sorcerer's Stone (Harry P...</td>\n",
       "      <td>J.K. Rowling-Mary GrandPré</td>\n",
       "      <td>4.47</td>\n",
       "      <td>0439554934</td>\n",
       "      <td>9780439554930</td>\n",
       "      <td>eng</td>\n",
       "      <td>320</td>\n",
       "      <td>5629932</td>\n",
       "      <td>70390</td>\n",
       "      <td>https://covers.openlibrary.org/b/id/7572543-L.jpg</td>\n",
       "    </tr>\n",
       "    <tr>\n",
       "      <th>3</th>\n",
       "      <td>4</td>\n",
       "      <td>Harry Potter and the Chamber of Secrets (Harry...</td>\n",
       "      <td>J.K. Rowling</td>\n",
       "      <td>4.41</td>\n",
       "      <td>0439554896</td>\n",
       "      <td>9780439554893</td>\n",
       "      <td>eng</td>\n",
       "      <td>352</td>\n",
       "      <td>6267</td>\n",
       "      <td>272</td>\n",
       "      <td>https://covers.openlibrary.org/b/id/10301720-L...</td>\n",
       "    </tr>\n",
       "    <tr>\n",
       "      <th>4</th>\n",
       "      <td>5</td>\n",
       "      <td>Harry Potter and the Prisoner of Azkaban (Harr...</td>\n",
       "      <td>J.K. Rowling-Mary GrandPré</td>\n",
       "      <td>4.55</td>\n",
       "      <td>043965548X</td>\n",
       "      <td>9780439655484</td>\n",
       "      <td>eng</td>\n",
       "      <td>435</td>\n",
       "      <td>2149872</td>\n",
       "      <td>33964</td>\n",
       "      <td>https://covers.openlibrary.org/b/id/10580458-L...</td>\n",
       "    </tr>\n",
       "  </tbody>\n",
       "</table>\n",
       "</div>"
      ],
      "text/plain": [
       "   bookID                                              title  \\\n",
       "0       1  Harry Potter and the Half-Blood Prince (Harry ...   \n",
       "1       2  Harry Potter and the Order of the Phoenix (Har...   \n",
       "2       3  Harry Potter and the Sorcerer's Stone (Harry P...   \n",
       "3       4  Harry Potter and the Chamber of Secrets (Harry...   \n",
       "4       5  Harry Potter and the Prisoner of Azkaban (Harr...   \n",
       "\n",
       "                      authors  average_rating        isbn         isbn13  \\\n",
       "0  J.K. Rowling-Mary GrandPré            4.56  0439785960  9780439785969   \n",
       "1  J.K. Rowling-Mary GrandPré            4.49  0439358078  9780439358071   \n",
       "2  J.K. Rowling-Mary GrandPré            4.47  0439554934  9780439554930   \n",
       "3                J.K. Rowling            4.41  0439554896  9780439554893   \n",
       "4  J.K. Rowling-Mary GrandPré            4.55  043965548X  9780439655484   \n",
       "\n",
       "  language_code  # num_pages  ratings_count  text_reviews_count  \\\n",
       "0           eng          652        1944099               26249   \n",
       "1           eng          870        1996446               27613   \n",
       "2           eng          320        5629932               70390   \n",
       "3           eng          352           6267                 272   \n",
       "4           eng          435        2149872               33964   \n",
       "\n",
       "                                               Cover  \n",
       "0  https://covers.openlibrary.org/b/id/9326654-L.jpg  \n",
       "1  https://covers.openlibrary.org/b/id/10716165-L...  \n",
       "2  https://covers.openlibrary.org/b/id/7572543-L.jpg  \n",
       "3  https://covers.openlibrary.org/b/id/10301720-L...  \n",
       "4  https://covers.openlibrary.org/b/id/10580458-L...  "
      ]
     },
     "execution_count": 20,
     "metadata": {},
     "output_type": "execute_result"
    }
   ],
   "source": [
    "books_df2.head()"
   ]
  },
  {
   "cell_type": "code",
   "execution_count": null,
   "metadata": {},
   "outputs": [],
   "source": []
  }
 ],
 "metadata": {
  "kernelspec": {
   "display_name": "Python 3",
   "language": "python",
   "name": "python3"
  },
  "language_info": {
   "codemirror_mode": {
    "name": "ipython",
    "version": 3
   },
   "file_extension": ".py",
   "mimetype": "text/x-python",
   "name": "python",
   "nbconvert_exporter": "python",
   "pygments_lexer": "ipython3",
   "version": "3.8.6"
  },
  "toc": {
   "base_numbering": 1,
   "nav_menu": {},
   "number_sections": false,
   "sideBar": true,
   "skip_h1_title": false,
   "title_cell": "Table of Contents",
   "title_sidebar": "Contents",
   "toc_cell": false,
   "toc_position": {},
   "toc_section_display": true,
   "toc_window_display": false
  },
  "varInspector": {
   "cols": {
    "lenName": 16,
    "lenType": 16,
    "lenVar": 40
   },
   "kernels_config": {
    "python": {
     "delete_cmd_postfix": "",
     "delete_cmd_prefix": "del ",
     "library": "var_list.py",
     "varRefreshCmd": "print(var_dic_list())"
    },
    "r": {
     "delete_cmd_postfix": ") ",
     "delete_cmd_prefix": "rm(",
     "library": "var_list.r",
     "varRefreshCmd": "cat(var_dic_list()) "
    }
   },
   "types_to_exclude": [
    "module",
    "function",
    "builtin_function_or_method",
    "instance",
    "_Feature"
   ],
   "window_display": false
  }
 },
 "nbformat": 4,
 "nbformat_minor": 2
}
