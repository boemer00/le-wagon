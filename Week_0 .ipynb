{
 "cells": [
  {
   "cell_type": "markdown",
   "id": "emerging-oregon",
   "metadata": {},
   "source": [
    "# Day 1\n",
    "### Morning challenges from CodeWars"
   ]
  },
  {
   "cell_type": "markdown",
   "id": "rising-guide",
   "metadata": {},
   "source": [
    "1 - Your task is to create functionisDivideBy (or is_divide_by) to check if an integer number is divisible by each out of two arguments."
   ]
  },
  {
   "cell_type": "code",
   "execution_count": 2,
   "id": "crazy-cologne",
   "metadata": {},
   "outputs": [],
   "source": [
    "def is_divide_by(number, a, b):\n",
    "    return number % a == 0 and number % b == 0"
   ]
  },
  {
   "cell_type": "code",
   "execution_count": 3,
   "id": "respected-density",
   "metadata": {},
   "outputs": [
    {
     "name": "stdout",
     "output_type": "stream",
     "text": [
      "True\n"
     ]
    }
   ],
   "source": [
    "print(is_divide_by(8, 2, 4))"
   ]
  },
  {
   "cell_type": "markdown",
   "id": "neither-prompt",
   "metadata": {},
   "source": [
    "2 - Define a method hello that returns \"Hello, Name!\" to a given name, or says Hello, World! if name is not given (or passed as an empty String). Assuming that name is a String and it checks for user typos to return a name with a first capital letter (Xxxx)."
   ]
  },
  {
   "cell_type": "code",
   "execution_count": 4,
   "id": "given-anniversary",
   "metadata": {},
   "outputs": [],
   "source": [
    "def hello(name=\"\"):\n",
    "    return f\"Hello, {name.capitalize() if name else 'World'}!\""
   ]
  },
  {
   "cell_type": "code",
   "execution_count": 5,
   "id": "lined-august",
   "metadata": {},
   "outputs": [
    {
     "name": "stdout",
     "output_type": "stream",
     "text": [
      "Hello, John!\n"
     ]
    }
   ],
   "source": [
    "print(hello('jOhN'))"
   ]
  },
  {
   "cell_type": "markdown",
   "id": "strong-brand",
   "metadata": {},
   "source": [
    "3 - You are given the length and width of a 4-sided polygon. The polygon can either be a rectangle or a square.\n",
    "If it is a square, return its area. If it is a rectangle, return its perimeter."
   ]
  },
  {
   "cell_type": "code",
   "execution_count": 6,
   "id": "infectious-gauge",
   "metadata": {},
   "outputs": [],
   "source": [
    "def area_or_perimeter(l, w):\n",
    "    return l * w if l == w else (l + w) * 2"
   ]
  },
  {
   "cell_type": "code",
   "execution_count": 7,
   "id": "massive-style",
   "metadata": {},
   "outputs": [
    {
     "name": "stdout",
     "output_type": "stream",
     "text": [
      "32\n"
     ]
    }
   ],
   "source": [
    "print(area_or_perimeter(6, 10))"
   ]
  },
  {
   "cell_type": "markdown",
   "id": "environmental-family",
   "metadata": {},
   "source": [
    "4 - Nathan loves cycling. Because Nathan knows it is important to stay hydrated, he drinks 0.5 litres of water per hour of cycling. You get given the time in hours and you need to return the number of litres Nathan will drink, rounded to the smallest value."
   ]
  },
  {
   "cell_type": "code",
   "execution_count": 8,
   "id": "hearing-martin",
   "metadata": {},
   "outputs": [],
   "source": [
    "def litres(time):\n",
    "    return int(time/2)"
   ]
  },
  {
   "cell_type": "code",
   "execution_count": 11,
   "id": "norman-insulation",
   "metadata": {},
   "outputs": [],
   "source": [
    "def litres(time):    # clever solution\n",
    "    return time // 2        "
   ]
  },
  {
   "cell_type": "code",
   "execution_count": 10,
   "id": "geological-conversation",
   "metadata": {},
   "outputs": [
    {
     "name": "stdout",
     "output_type": "stream",
     "text": [
      "6.0\n"
     ]
    }
   ],
   "source": [
    "print(litres(12.3))"
   ]
  },
  {
   "cell_type": "markdown",
   "id": "executive-forestry",
   "metadata": {},
   "source": [
    "5 - Create a method is_uppercase() to see whether the string is ALL CAPS."
   ]
  },
  {
   "cell_type": "code",
   "execution_count": 12,
   "id": "binding-account",
   "metadata": {},
   "outputs": [],
   "source": [
    "def is_uppercase(inp):\n",
    "    return inp.isupper()"
   ]
  },
  {
   "cell_type": "code",
   "execution_count": 13,
   "id": "phantom-spiritual",
   "metadata": {},
   "outputs": [
    {
     "name": "stdout",
     "output_type": "stream",
     "text": [
      "False\n"
     ]
    }
   ],
   "source": [
    "print(is_uppercase(\"hello I AM DONALD\"))"
   ]
  },
  {
   "cell_type": "markdown",
   "id": "intended-craps",
   "metadata": {},
   "source": [
    "### Afternoon challenges"
   ]
  },
  {
   "cell_type": "markdown",
   "id": "handed-parker",
   "metadata": {},
   "source": [
    "**Compute name**\n",
    "Implement a compute_name function line 2. Given the first_name, middle_name, and last_name, it should return the full name of the person.\n",
    "constraint: You must use string interpolation with f\"{}\" to build this full name.\n",
    "\n",
    "**Key learning points**\n",
    "Again, ask yourself these questions and make sure you can answer all of them:\n",
    "\n",
    "**on variables** What are the variables in your code?\n",
    "Where do you assign values to these variables and where do you use them?\n",
    "What’s the scope of a variable?\n",
    "\n",
    "**on functions** What is the function of your program? Where do you define it?\n",
    "Where do you call this method and with which arguments?\n",
    "What’s the flow of your program when you try to read it line by line?\n",
    "\n",
    "**on strings** What’s string interpolation? What’s the syntax to “insert” some python expression in a string?\n"
   ]
  },
  {
   "cell_type": "code",
   "execution_count": 14,
   "id": "impaired-authorization",
   "metadata": {},
   "outputs": [],
   "source": [
    "def compute_name(first_name, middle_name,last_name):\n",
    "    return f'{first_name} {middle_name} {last_name}'"
   ]
  },
  {
   "cell_type": "code",
   "execution_count": 17,
   "id": "english-restoration",
   "metadata": {},
   "outputs": [
    {
     "name": "stdout",
     "output_type": "stream",
     "text": [
      "benjamin romain baranger\n"
     ]
    }
   ],
   "source": [
    "print(compute_name('benjamin', 'romain', 'baranger'))"
   ]
  },
  {
   "cell_type": "markdown",
   "id": "modular-freeware",
   "metadata": {},
   "source": [
    "We can break a number into different contiguous sub-subsequence parts. For example, the number 324 can be broken into parts like (3, 2, 4, 32, 24, 324). A colorful number is a number where the products of all the subsets of the digits are different. eg: 263 is a colorful number (2, 6, 3, 2x6, 6x3, 2x6x3) are all different. 236 is not (2, 3, 6, 2x3, 3x6, 2x3x6) has 6 twice (6 and 2x3)\n",
    "\n",
    "**Specs**\n",
    "We want you to write a function is_colorful which takes a single number as an argument and returns True if the number is colorful, False otherwise. For this exercise, only consider numbers with up to 3 digits (not more), eg:\n",
    "is_colorful(263) #=> True\n",
    "is_colorful(236) #=> False"
   ]
  },
  {
   "cell_type": "code",
   "execution_count": 18,
   "id": "minor-venezuela",
   "metadata": {},
   "outputs": [],
   "source": [
    "def is_colorful(n):\n",
    "    dig = [int(x) for x in str(n)]\n",
    "    if len(dig) <= 2:\n",
    "        s0 = dig[0]\n",
    "        s1 = dig[1]\n",
    "        s3 = int(dig[0]) * int(dig[1])\n",
    "    \n",
    "        if s0 != s1 and s0 != s3:\n",
    "            return True\n",
    "        else:\n",
    "            return False\n",
    "          \n",
    "    elif len(dig) == 3:\n",
    "        s0 = dig[0]\n",
    "        s1 = dig[1]\n",
    "        s2 = dig[2]\n",
    "        s3 = int(dig[0]) * int(dig[1])\n",
    "        s4 = int(dig[1]) * int(dig[2])\n",
    "    \n",
    "        if s0 != s1 and s1 != s2 and s2 != s3 and s3 != s4 and s3 != s0 and s3 != s1 and s3 != s2 and s4 != s1 and s4 != s2:\n",
    "            return True\n",
    "        else:\n",
    "            return False"
   ]
  },
  {
   "cell_type": "code",
   "execution_count": 33,
   "id": "automatic-editor",
   "metadata": {},
   "outputs": [
    {
     "name": "stdout",
     "output_type": "stream",
     "text": [
      "True\n",
      "False\n"
     ]
    }
   ],
   "source": [
    "print(is_colorful(49))\n",
    "print(is_colorful(236))"
   ]
  },
  {
   "cell_type": "markdown",
   "id": "above-anaheim",
   "metadata": {},
   "source": [
    "**Simple version** In this exercise, we will create your own personal coach.\n",
    "Unfortunately though, the coach is a little stupid and can only exhibit the following behavior:\n",
    "\n",
    "If you don’t ask them something, but just tell them something (e.g. \"I met a girl last night\"), they will just answer back \"I don't care, get dressed and go to work!\"\n",
    "If you ask them something (e.g. \"Can I eat some pizza?\"), they won’t be of much help either and they will tell you \"Silly question, get dressed and go to work!\"\n",
    "The only way to get rid of them is to tell them what they wants to hear: \"I am going to work right now!\".\n",
    "Let’s make a comparison between the real world and the code world on this exercise.\n",
    "The objectives of this challenge are:\n",
    "\n",
    "Understand the flow of a program and learn how to “read” through your code, line by line\n",
    "Learn about conditional statements\n",
    "Learn about coding structures that modify your program flow\n",
    "Specs\n",
    "\n",
    "Coach answer\n",
    "Define the coach_answer function line 2 in the code editor.\n",
    "\n",
    "It should take one argument, your_message which is the sentence you tell the coach.\n",
    "The function should return a str (i.e., the coach’s answer) which will obviously depend on which value is passed in your_message.\n",
    "The function should not return anything if you tell the coach what they want to hear\n"
   ]
  },
  {
   "cell_type": "code",
   "execution_count": 20,
   "id": "analyzed-zambia",
   "metadata": {},
   "outputs": [],
   "source": [
    "def coach_answer(your_message):\n",
    "    if your_message == \"I am going to work right now!\":\n",
    "        return ''     \n",
    "    elif ('?' or '!') not in your_message:\n",
    "        return \"I don't care, get dressed and go to work!\"\n",
    "    elif your_message.endswith('?'):\n",
    "        return \"Silly question, get dressed and go to work!\" "
   ]
  },
  {
   "cell_type": "code",
   "execution_count": 23,
   "id": "framed-hollow",
   "metadata": {},
   "outputs": [
    {
     "name": "stdout",
     "output_type": "stream",
     "text": [
      "Silly question, get dressed and go to work!\n"
     ]
    }
   ],
   "source": [
    "print(coach_answer(\"Hey Coach?\"))"
   ]
  },
  {
   "cell_type": "markdown",
   "id": "considered-evaluation",
   "metadata": {},
   "source": [
    "**Enhanced version**\n",
    "Now let’s implement an enhanced version. Define the function coach_answer_enhanced line 13. If you SHOUT at your coach, they will like it, and will say: I can feel your motivation! before the regular answer (from the non-enhanced version). Remember that shouting on the Internet is done by writing in CAPS LOCK! However, if you shout “I AM GOING TO WORK RIGHT NOW!”, your coach will leave you alone.\n",
    "\n",
    "**Key learning points**\n",
    "What’s the usual flow of a program?\n",
    "How do structures like if..else change this flow?\n",
    "How do these structures work?\n",
    "What’s a conditional statement? Which values can it take? What’s the difference between = and ==?\n",
    "Does a simple function call change the flow of your program?"
   ]
  },
  {
   "cell_type": "code",
   "execution_count": 24,
   "id": "bibliographic-fourth",
   "metadata": {},
   "outputs": [],
   "source": [
    "def coach_answer_enhanced(your_message):\n",
    "    if your_message == \"I am going to work right now!\" :\n",
    "        return \"\"\n",
    "    \n",
    "    if your_message == \"I AM GOING TO WORK RIGHT NOW!\":\n",
    "        return \"\"\n",
    "    \n",
    "    elif your_message == 'I would love some pizza':\n",
    "        return \"I don't care, get dressed and go to work!\"\n",
    "    \n",
    "    elif your_message == 'Can I eat some pizza?':\n",
    "        return \"Silly question, get dressed and go to work!\"\n",
    "    \n",
    "    elif your_message == \"I WOULD LOVE SOME PIZZA!\":\n",
    "        return \"I can feel your motivation! I don't care, get dressed and go to work!\"\n",
    "    \n",
    "    elif your_message == \"CAN I EAT SOME PIZZA?\":\n",
    "        return \"I can feel your motivation! Silly question, get dressed and go to work!\""
   ]
  },
  {
   "cell_type": "code",
   "execution_count": 32,
   "id": "apart-possession",
   "metadata": {},
   "outputs": [
    {
     "name": "stdout",
     "output_type": "stream",
     "text": [
      "I can feel your motivation! Silly question, get dressed and go to work!\n"
     ]
    }
   ],
   "source": [
    "print(coach_answer_enhanced(\"CAN I EAT SOME PIZZA?\"))"
   ]
  },
  {
   "cell_type": "markdown",
   "id": "finnish-party",
   "metadata": {},
   "source": [
    "# Day 2\n",
    "\n",
    "### Morning challenges from CodeWars"
   ]
  },
  {
   "cell_type": "markdown",
   "id": "clear-october",
   "metadata": {},
   "source": [
    "[**Testing 1-2-3**](https://www.codewars.com/kata/54bf85e3d5b56c7a05000cf9/python)\n",
    "Your team is writing a fancy new text editor and you've been tasked with implementing the line numbering. Write a function which takes a list of strings and returns each line prepended by the correct number. The numbering starts at 1. The format is `n: string`. Notice the colon and space in between."
   ]
  },
  {
   "cell_type": "code",
   "execution_count": 71,
   "id": "separated-organization",
   "metadata": {},
   "outputs": [],
   "source": [
    "def number(lines):\n",
    "    l = []\n",
    "    for i,v in enumerate(lines):\n",
    "        l.append(f'{i+1}: {v}')\n",
    "    return l"
   ]
  },
  {
   "cell_type": "code",
   "execution_count": 72,
   "id": "driving-charity",
   "metadata": {},
   "outputs": [
    {
     "name": "stdout",
     "output_type": "stream",
     "text": [
      "['1: a', '2: b', '3: c']\n"
     ]
    }
   ],
   "source": [
    "print(number([\"a\", \"b\", \"c\"]))"
   ]
  },
  {
   "cell_type": "code",
   "execution_count": 77,
   "id": "blind-sending",
   "metadata": {},
   "outputs": [],
   "source": [
    "def number(lines):\n",
    "    return [f'{i}: {v}' for i,v in enumerate(lines,1)]"
   ]
  },
  {
   "cell_type": "code",
   "execution_count": 78,
   "id": "dense-duncan",
   "metadata": {},
   "outputs": [
    {
     "name": "stdout",
     "output_type": "stream",
     "text": [
      "['1: a', '2: b', '3: c']\n"
     ]
    }
   ],
   "source": [
    "print(number([\"a\", \"b\", \"c\"]))"
   ]
  },
  {
   "cell_type": "markdown",
   "id": "adult-transaction",
   "metadata": {},
   "source": [
    "[**Running out of space**](https://www.codewars.com/kata/56576f82ab83ee8268000059/train/python)Kevin is noticing his space run out! Write a function that removes the spaces from the values and returns an array showing the space decreasing. For example, running this function on the array ['i', 'have','no','space'] would produce ['i','ihave','ihaveno','ihavenospace']."
   ]
  },
  {
   "cell_type": "code",
   "execution_count": 121,
   "id": "infinite-package",
   "metadata": {},
   "outputs": [],
   "source": [
    "# solution 1\n",
    "def spacey(array):\n",
    "    s = ''\n",
    "    l = []\n",
    "    for word in array:\n",
    "        s += word\n",
    "        l.append(s)\n",
    "    return l"
   ]
  },
  {
   "cell_type": "code",
   "execution_count": 122,
   "id": "sixth-theta",
   "metadata": {},
   "outputs": [
    {
     "name": "stdout",
     "output_type": "stream",
     "text": [
      "['kevin', 'kevinhas', 'kevinhasno', 'kevinhasnospace']\n"
     ]
    }
   ],
   "source": [
    "print(spacey(['kevin', 'has','no','space']))"
   ]
  },
  {
   "cell_type": "code",
   "execution_count": 113,
   "id": "roman-verification",
   "metadata": {},
   "outputs": [],
   "source": [
    "# solution 2\n",
    "def spacey(array):\n",
    "    return [''.join(array[:i+1]) for i in range(len(array))]   # [:i+1] because the stop index is not included"
   ]
  },
  {
   "cell_type": "code",
   "execution_count": 114,
   "id": "finnish-recording",
   "metadata": {},
   "outputs": [
    {
     "name": "stdout",
     "output_type": "stream",
     "text": [
      "['kevin', 'kevinhas', 'kevinhasno', 'kevinhasnospace']\n"
     ]
    }
   ],
   "source": [
    "print(spacey(['kevin','has','no','space']))"
   ]
  },
  {
   "cell_type": "code",
   "execution_count": 118,
   "id": "particular-blind",
   "metadata": {},
   "outputs": [],
   "source": [
    "# solution 3\n",
    "from itertools import accumulate\n",
    "\n",
    "def spacey(a):\n",
    "    return list(accumulate(a))"
   ]
  },
  {
   "cell_type": "code",
   "execution_count": 116,
   "id": "racial-jewel",
   "metadata": {},
   "outputs": [
    {
     "name": "stdout",
     "output_type": "stream",
     "text": [
      "['kevin', 'kevinhas', 'kevinhasno', 'kevinhasnospace']\n"
     ]
    }
   ],
   "source": [
    "print(spacey(['kevin','has','no','space']))"
   ]
  },
  {
   "cell_type": "markdown",
   "id": "partial-relay",
   "metadata": {},
   "source": [
    "[**Sum of two lowest positive integers**](https://www.codewars.com/kata/558fc85d8fd1938afb000014/train/python) Create a function that returns the sum of the two lowest positive numbers given an array of minimum 4 positive integers. No floats or non-positive integers will be passed. For example, when an array is passed like `[19, 5, 42, 2, 77]`, the output should be `7`."
   ]
  },
  {
   "cell_type": "code",
   "execution_count": 153,
   "id": "mechanical-bailey",
   "metadata": {},
   "outputs": [],
   "source": [
    "# solution 1\n",
    "def sum_two_smallest_numbers(n):\n",
    "    n.sort()\n",
    "    return n[0] + n[1]"
   ]
  },
  {
   "cell_type": "code",
   "execution_count": 154,
   "id": "quantitative-hammer",
   "metadata": {},
   "outputs": [
    {
     "name": "stdout",
     "output_type": "stream",
     "text": [
      "19\n"
     ]
    }
   ],
   "source": [
    "print(sum_two_smallest_numbers([7, 15, 12, 18, 22]))"
   ]
  },
  {
   "cell_type": "code",
   "execution_count": 155,
   "id": "recorded-interest",
   "metadata": {},
   "outputs": [],
   "source": [
    "# solution 2\n",
    "def sum_two_smallest_numbers(numbers):\n",
    "    return sum(sorted(numbers)[:2])"
   ]
  },
  {
   "cell_type": "code",
   "execution_count": 156,
   "id": "appreciated-affiliate",
   "metadata": {},
   "outputs": [
    {
     "name": "stdout",
     "output_type": "stream",
     "text": [
      "19\n"
     ]
    }
   ],
   "source": [
    "print(sum_two_smallest_numbers([7, 15, 12, 18, 22]))"
   ]
  },
  {
   "cell_type": "markdown",
   "id": "happy-scheduling",
   "metadata": {},
   "source": [
    "[**Password validator**](https://www.codewars.com/kata/56a921fa8c5167d8e7000053/python)\n",
    "Your job is to create a simple password validation function, as seen on many websites. The rules for a valid password are as follows:\n",
    "\n",
    "- There needs to be at least 1 uppercase letter.\n",
    "- There needs to be at least 1 lowercase letter.\n",
    "- There needs to be at least 1 number.\n",
    "- The password needs to be at least 8 characters long.\n",
    "- You are permitted to use any methods to validate the password."
   ]
  },
  {
   "cell_type": "code",
   "execution_count": 302,
   "id": "chemical-catch",
   "metadata": {},
   "outputs": [],
   "source": [
    "import re\n",
    "def password(string):\n",
    "    if len(string) < 8:\n",
    "        return False\n",
    "    else:\n",
    "        return bool(re.match(r'(?=.*[A-Z])(?=.*[a-z])(?=.*\\d)', string))  # r'[0-9][a-z][A-Z]' did not work!"
   ]
  },
  {
   "cell_type": "code",
   "execution_count": 303,
   "id": "present-withdrawal",
   "metadata": {},
   "outputs": [
    {
     "name": "stdout",
     "output_type": "stream",
     "text": [
      "True\n"
     ]
    }
   ],
   "source": [
    "print(password(\"aBcc23476tt\"))"
   ]
  },
  {
   "cell_type": "code",
   "execution_count": 304,
   "id": "centered-company",
   "metadata": {},
   "outputs": [],
   "source": [
    "import re\n",
    "def password(s):\n",
    "    return bool(re.match(r'(?=.*[A-Z])(?=.*[a-z])(?=.*\\d).{8}', s))"
   ]
  },
  {
   "cell_type": "code",
   "execution_count": 307,
   "id": "respective-stocks",
   "metadata": {},
   "outputs": [
    {
     "name": "stdout",
     "output_type": "stream",
     "text": [
      "False\n"
     ]
    }
   ],
   "source": [
    "print(password(\"aBccttee\"))"
   ]
  },
  {
   "cell_type": "markdown",
   "id": "indie-institute",
   "metadata": {},
   "source": [
    "[**Password Maker**](https://www.codewars.com/kata/5637b03c6be7e01d99000046/train/python)\n",
    "One suggestion to build a satisfactory password is to start with a memorable phrase or sentence and make a password by extracting the first letter of each word. Even better is to replace some of those letters with numbers (e.g., the letter O can be replaced with the number 0):\n",
    "- instead of including i or I put the number 1 in the password;\n",
    "- instead of including o or O put the number 0 in the password;\n",
    "- instead of including s or S put the number 5 in the password."
   ]
  },
  {
   "cell_type": "code",
   "execution_count": 337,
   "id": "interracial-covering",
   "metadata": {},
   "outputs": [],
   "source": [
    "# solution 1\n",
    "def make_password(phrase):\n",
    "    p = ''.join(word[0] for word in phrase.split())\n",
    "    return p.replace('i','1').replace('I','1').replace('o','0').replace('O','0').replace('s','5').replace('S','5')"
   ]
  },
  {
   "cell_type": "code",
   "execution_count": 338,
   "id": "impressed-madonna",
   "metadata": {},
   "outputs": [
    {
     "name": "stdout",
     "output_type": "stream",
     "text": [
      "Gml0gmd\n",
      "W1t\n"
     ]
    }
   ],
   "source": [
    "print(make_password(\"Give me liberty or give me death\"))\n",
    "print(make_password(\"Whatever it takes!\"))"
   ]
  },
  {
   "cell_type": "code",
   "execution_count": 339,
   "id": "affected-forestry",
   "metadata": {},
   "outputs": [],
   "source": [
    "# solution 2\n",
    "SWAP = {'i': '1', 'I': '1', 'o': '0', 'O': '0', 's': '5', 'S': '5'}\n",
    "def make_password(phrase):\n",
    "    return ''.join(SWAP.get(a[0], a[0]) for a in phrase.split())"
   ]
  },
  {
   "cell_type": "code",
   "execution_count": 342,
   "id": "developing-warren",
   "metadata": {},
   "outputs": [],
   "source": [
    "# solution 3\n",
    "import string\n",
    "def make_password(phrase):\n",
    "    return ''.join(word[0] for word in phrase.split()).translate(maketrans('iosIOS', '105105'))"
   ]
  },
  {
   "cell_type": "markdown",
   "id": "breeding-honolulu",
   "metadata": {},
   "source": [
    "[**Return a string's even characters**](https://www.codewars.com/kata/566044325f8fddc1c000002c/train/python)\n",
    "Write a function that returns a sequence (index begins with 1) of all the even characters from a string. If the string is smaller than two characters or longer than 100 characters, the function should return \"invalid string\""
   ]
  },
  {
   "cell_type": "code",
   "execution_count": 316,
   "id": "toxic-device",
   "metadata": {},
   "outputs": [],
   "source": [
    "# solution 1\n",
    "def even_chars(st): \n",
    "    if (len(st) < 2) or (len(st) > 100):\n",
    "        return 'invalid string'\n",
    "    else:\n",
    "        return list(st[1::2])"
   ]
  },
  {
   "cell_type": "code",
   "execution_count": 317,
   "id": "biological-thesaurus",
   "metadata": {},
   "outputs": [
    {
     "name": "stdout",
     "output_type": "stream",
     "text": [
      "['b', 'd', 'f', 'h', 'j', 'l']\n"
     ]
    }
   ],
   "source": [
    "print(even_chars(\"abcdefghijklm\"))"
   ]
  },
  {
   "cell_type": "code",
   "execution_count": 318,
   "id": "intermediate-license",
   "metadata": {},
   "outputs": [],
   "source": [
    "# solution 2\n",
    "def even_chars(st):\n",
    "    if len(st) < 2 or len(st)> 100:\n",
    "        return 'invalid string'\n",
    "    else:\n",
    "        return [st[i] for i in range(1, len(st), 2)]"
   ]
  },
  {
   "cell_type": "code",
   "execution_count": 321,
   "id": "prostate-monitoring",
   "metadata": {},
   "outputs": [
    {
     "name": "stdout",
     "output_type": "stream",
     "text": [
      "['7', '*', '^', 'X', 'g', 'i', '?', 'l']\n"
     ]
    }
   ],
   "source": [
    "print(even_chars(\"c7(**^5Xkghi-?klm\"))"
   ]
  },
  {
   "cell_type": "markdown",
   "id": "brutal-method",
   "metadata": {},
   "source": [
    "[**Manhattan Distance**](https://www.codewars.com/kata/52998bf8caa22d98b800003a)\n",
    "The distance formula can be used to find the distance between two points. What if we were trying to walk from point A to point B, but there were buildings in the way? We would need some other formula...but which?\n",
    "\n",
    "Manhattan distance is the distance between two points in a grid (like the grid-like street geography of the New York borough of Manhattan) calculated by only taking a vertical and/or horizontal path. Complete the function that accepts two points and returns the Manhattan Distance between the two points. The points are arrays or tuples containing the x and y coordinate in the grid. You can think of x as the row in the grid, and y as the column."
   ]
  },
  {
   "cell_type": "code",
   "execution_count": 322,
   "id": "alive-skirt",
   "metadata": {},
   "outputs": [],
   "source": [
    "def manhattan_distance(a, b):\n",
    "    return abs(b[0]-a[0])+abs(b[1]-a[1])"
   ]
  },
  {
   "cell_type": "code",
   "execution_count": 323,
   "id": "fitted-feeling",
   "metadata": {},
   "outputs": [
    {
     "name": "stdout",
     "output_type": "stream",
     "text": [
      "0\n"
     ]
    }
   ],
   "source": [
    "print(manhattan_distance([1, 1],[1, 1]))"
   ]
  },
  {
   "cell_type": "markdown",
   "id": "promising-dietary",
   "metadata": {},
   "source": [
    "[**Mexican Wave**](https://www.codewars.com/kata/58f5c63f1e26ecda7e000029/train/python)\n",
    "Create a function that turns a string into a Mexican Wave. You will be passed a string and you must return that string in an array where an uppercase letter is a person standing up.\n",
    "- The input string will always be lower case but maybe empty.\n",
    "- If the character in the string is whitespace then pass over it as if it was an empty seat\n",
    "\n",
    "wave(\"hello\") => [\"Hello\", \"hEllo\", \"heLlo\", \"helLo\", \"hellO\"]"
   ]
  },
  {
   "cell_type": "code",
   "execution_count": 424,
   "id": "distinguished-concert",
   "metadata": {},
   "outputs": [],
   "source": [
    "# solution 1\n",
    "def wave(p):\n",
    "    for i in range(len(p)):\n",
    "        if p[i] != ' ':\n",
    "            pass\n",
    "        else:\n",
    "            return [p[:i] + p[i].upper() + p[i+1:]"
   ]
  },
  {
   "cell_type": "code",
   "execution_count": 425,
   "id": "south-trailer",
   "metadata": {},
   "outputs": [
    {
     "name": "stdout",
     "output_type": "stream",
     "text": [
      "['Hello', 'hEllo', 'heLlo', 'helLo', 'hellO']\n"
     ]
    }
   ],
   "source": [
    "print(wave('hello'))"
   ]
  },
  {
   "cell_type": "code",
   "execution_count": 424,
   "id": "federal-correspondence",
   "metadata": {},
   "outputs": [],
   "source": [
    "# solution 2\n",
    "def wave(p):\n",
    "    return [p[:i] + p[i].upper() + p[i+1:] for i in range(len(p)) if p[i] != ' ']"
   ]
  },
  {
   "cell_type": "code",
   "execution_count": 425,
   "id": "geological-penetration",
   "metadata": {},
   "outputs": [
    {
     "name": "stdout",
     "output_type": "stream",
     "text": [
      "['Hello', 'hEllo', 'heLlo', 'helLo', 'hellO']\n"
     ]
    }
   ],
   "source": [
    "print(wave('hello'))"
   ]
  },
  {
   "cell_type": "code",
   "execution_count": 427,
   "id": "convenient-hopkins",
   "metadata": {},
   "outputs": [],
   "source": [
    "# failed solution\n",
    "def waves(p):\n",
    "    if p == '':\n",
    "        return list('')\n",
    "    else:\n",
    "        l = []\n",
    "        for i in range(len(p)):\n",
    "            if p[i] == '':\n",
    "                pass\n",
    "            else:\n",
    "                s = p.replace(p[i],p[i].upper())\n",
    "                l.append(s)\n",
    "    return l"
   ]
  },
  {
   "cell_type": "code",
   "execution_count": 428,
   "id": "criminal-failure",
   "metadata": {},
   "outputs": [
    {
     "name": "stdout",
     "output_type": "stream",
     "text": [
      "['Hello', 'hEllo', 'heLLo', 'heLLo', 'hellO']\n"
     ]
    }
   ],
   "source": [
    "print(waves('hello'))  ## double uppercase LL"
   ]
  },
  {
   "cell_type": "markdown",
   "id": "continued-eligibility",
   "metadata": {},
   "source": [
    "[**Multiplication table**](https://www.codewars.com/kata/534d2f5b5371ecf8d2000a08/train/python) Your task, is to create NxN multiplication table, of size provided in parameter."
   ]
  },
  {
   "cell_type": "code",
   "execution_count": 474,
   "id": "identified-bumper",
   "metadata": {},
   "outputs": [],
   "source": [
    "# solution 1\n",
    "def multiplication_table(size): # size = 3\n",
    "    x = range(1,size+1)         # --> 1,2,3\n",
    "    y = range(1,size+1)         # --> 1,2,3\n",
    "    return [[i*j for j in x] for i in y]"
   ]
  },
  {
   "cell_type": "code",
   "execution_count": 475,
   "id": "detected-income",
   "metadata": {},
   "outputs": [
    {
     "name": "stdout",
     "output_type": "stream",
     "text": [
      "[[1, 2, 3], [2, 4, 6], [3, 6, 9]]\n"
     ]
    }
   ],
   "source": [
    "print(multiplication_table(3)) # --> [[1,2,3],[2,4,6],[3,6,9]])"
   ]
  },
  {
   "cell_type": "code",
   "execution_count": 470,
   "id": "interstate-speaking",
   "metadata": {},
   "outputs": [],
   "source": [
    "# solution 2\n",
    "def multiplication_table(size):\n",
    "    columns = []\n",
    "    for i in range(1,size+1):\n",
    "        rows = []\n",
    "        for j in range(1,size+1):\n",
    "            rows.append(i*j)\n",
    "        columns.append(rows)\n",
    "        \n",
    "    return columns"
   ]
  },
  {
   "cell_type": "code",
   "execution_count": 471,
   "id": "registered-testament",
   "metadata": {},
   "outputs": [
    {
     "name": "stdout",
     "output_type": "stream",
     "text": [
      "[[1, 2, 3, 4], [2, 4, 6, 8], [3, 6, 9, 12], [4, 8, 12, 16]]\n"
     ]
    }
   ],
   "source": [
    "print(multiplication_table(4))"
   ]
  },
  {
   "cell_type": "markdown",
   "id": "raising-skating",
   "metadata": {},
   "source": [
    "### Afternoon challenges"
   ]
  },
  {
   "cell_type": "markdown",
   "id": "micro-arthur",
   "metadata": {},
   "source": [
    "**Background and objectives**\n",
    "Quite often our programs will need to accept inputs from a user, whether through terminal commands, API requests, or form submissions. In these cases inputs are processed as a str data type. Let’s pracitce type conversion by building a simple_calculator function.\n",
    "\n",
    "**Specs**\n",
    "Our function should take a single list of strings as an argument, containing our first opperand, followed by an operator and then the 2nd operand. eg:\n",
    "simple_calculator(['1', '+', '1' ]) #=> 2\n",
    "The function should return 'Please enter valid format: [Operand, Operator, Operand]' for arguments that don’t match the required format\n",
    "The funtion should work with the following simple operators +, -, *, /, %, and should return'Please enter a valid operator [ +, -, /, *, % ]' if any other operators are passed"
   ]
  },
  {
   "cell_type": "code",
   "execution_count": 480,
   "id": "extensive-registration",
   "metadata": {},
   "outputs": [],
   "source": [
    "def simple_calculator(l):\n",
    "    if len(l) != 3:\n",
    "        return 'Please enter valid format: [Operand, Operator, Operand]'\n",
    "    elif l[1] not in ['+', '-', '/', '*', '%']:\n",
    "        return 'Please enter a valid operator [ +, -, /, *, % ]'\n",
    "    \n",
    "    num1 = float(l[0])\n",
    "    num2 = float(l[2])\n",
    "\n",
    "    if l[1] == '+':\n",
    "        return(num1 + num2)\n",
    "\n",
    "    elif l[1] == '-':\n",
    "        return(num1 - num2)\n",
    "\n",
    "    elif l[1] == '*':\n",
    "        return(num1 * num2)\n",
    "\n",
    "    elif l[1] == '/':\n",
    "        return(num1 / num2)\n",
    "        \n",
    "    elif l[1] == '%':\n",
    "        return(num1 % num2)\n",
    "        \n",
    "    else:\n",
    "        return 'Please enter valid format: [Operand, Operator, Operand]'"
   ]
  },
  {
   "cell_type": "code",
   "execution_count": 486,
   "id": "expected-prague",
   "metadata": {},
   "outputs": [
    {
     "name": "stdout",
     "output_type": "stream",
     "text": [
      "10.0\n"
     ]
    }
   ],
   "source": [
    "l = [3,'+',7]\n",
    "print(simple_calculator(l))"
   ]
  },
  {
   "cell_type": "markdown",
   "id": "reflected-truck",
   "metadata": {},
   "source": [
    "**Specs**\n",
    "Write a function fizz_buzz which takes a single number as an argument, and returns a list of numbers from 1 to that number, but replaces some of them according to these rules:\n",
    "\n",
    "- If the number is divisible by 3, then replace it with ‘Fizz’\n",
    "- If the number is divisible by 5, then replace it with ‘Buzz’\n",
    "- If the number is divisible by both 3 and 5, then replace it with ‘FizzBuzz’"
   ]
  },
  {
   "cell_type": "code",
   "execution_count": 487,
   "id": "severe-slovakia",
   "metadata": {},
   "outputs": [],
   "source": [
    "def fizz_buzz(n):\n",
    "    l = []\n",
    "    for i in range(1,n+1):\n",
    "        if i % 15 == 0:\n",
    "            l.append(\"FizzBuzz\")\n",
    "        elif i % 3 == 0:\n",
    "            l.append(\"Fizz\")\n",
    "        elif i % 5 == 0:\n",
    "            l.append(\"Buzz\")\n",
    "        else:\n",
    "            l.append(str(i))\n",
    "    return l"
   ]
  },
  {
   "cell_type": "code",
   "execution_count": 489,
   "id": "celtic-newman",
   "metadata": {},
   "outputs": [
    {
     "name": "stdout",
     "output_type": "stream",
     "text": [
      "['1', '2', 'Fizz', '4', 'Buzz', 'Fizz', '7', '8', 'Fizz', 'Buzz', '11', 'Fizz', '13', '14', 'FizzBuzz', '16']\n"
     ]
    }
   ],
   "source": [
    "print(fizz_buzz(16))"
   ]
  },
  {
   "cell_type": "markdown",
   "id": "alone-possession",
   "metadata": {},
   "source": [
    "**Background & Objectives**\n",
    "Thanks to Python’s built in random library we have access to a shuffle method, which when called on a list - returns a shuffled versino of that list. In this advanced exercise, let’s try to code a shuffle function ourselves from scratch.\n",
    "\n",
    "**Specs**\n",
    "Code a `manual_shuffle` function:\n",
    "\n",
    "- The function should take one argument, a list, and return a new list with all the items of your original list in a new, randomized order\n",
    "- Do Not use any built in list methods to manipulate the order such as sort()\n",
    "- Do Not use the built in shuffle method in python’s random library (let’s do it the hard way). But you might find some other helpful methods in there, we imported the random library for you at the top of the file.\n",
    "\n",
    "*Hint*: You should not makes changes to the original List, the copy method will come in handy. One approach could be to create a new empty array B, and until A is empty, randomly select an index in A, append the element in A at that index into B, then delete that index in A. Proceed until A is empty. B should contain the new shuffled array!"
   ]
  },
  {
   "cell_type": "code",
   "execution_count": 16,
   "id": "introductory-brooklyn",
   "metadata": {},
   "outputs": [],
   "source": [
    "import random\n",
    "def manual_shuffle(a):\n",
    "    c = a.copy()\n",
    "    b = []\n",
    "    while len(c) > 0:\n",
    "        i = random.randrange(len(c))\n",
    "        b.append(c[i])\n",
    "        del(c[i])\n",
    "        \n",
    "    return b"
   ]
  },
  {
   "cell_type": "code",
   "execution_count": 21,
   "id": "neutral-hello",
   "metadata": {},
   "outputs": [],
   "source": [
    "a = ['You', 'should', 'make', 'changes']"
   ]
  },
  {
   "cell_type": "code",
   "execution_count": 23,
   "id": "incorrect-setup",
   "metadata": {},
   "outputs": [
    {
     "name": "stdout",
     "output_type": "stream",
     "text": [
      "['should', 'changes', 'make', 'You']\n"
     ]
    }
   ],
   "source": [
    "print(manual_shuffle(a))"
   ]
  },
  {
   "cell_type": "markdown",
   "id": "little-consideration",
   "metadata": {},
   "source": [
    "# Day 3\n",
    "\n",
    "### Morning challenges from CodeWars"
   ]
  },
  {
   "cell_type": "markdown",
   "id": "about-handy",
   "metadata": {},
   "source": [
    "[**Counting duplicates**](https://www.codewars.com/kata/54bf1c2cd5b56cc47f0007a1/python) Write a function that will return the count of distinct case-insensitive alphabetic characters and numeric digits that occur more than once in the input string. The input string can be assumed to contain only alphabets (both uppercase and lowercase) and numeric digits.\n",
    "\n",
    "- \"abcde\" -> 0 # no characters repeats more than once\n",
    "- \"aabbcde\" -> 2 # 'a' and 'b'\n",
    "- \"aabBcde\" -> 2 # 'a' occurs twice and 'b' twice (`b` and `B`)\n",
    "- \"indivisibility\" -> 1 # 'i' occurs six times"
   ]
  },
  {
   "cell_type": "code",
   "execution_count": null,
   "id": "phantom-locking",
   "metadata": {},
   "outputs": [],
   "source": []
  },
  {
   "cell_type": "code",
   "execution_count": null,
   "id": "pressed-swaziland",
   "metadata": {},
   "outputs": [],
   "source": []
  },
  {
   "cell_type": "code",
   "execution_count": null,
   "id": "orange-quarterly",
   "metadata": {},
   "outputs": [],
   "source": []
  },
  {
   "cell_type": "code",
   "execution_count": null,
   "id": "developmental-compatibility",
   "metadata": {},
   "outputs": [],
   "source": []
  },
  {
   "cell_type": "code",
   "execution_count": null,
   "id": "dimensional-lotus",
   "metadata": {},
   "outputs": [],
   "source": []
  },
  {
   "cell_type": "code",
   "execution_count": null,
   "id": "overhead-separate",
   "metadata": {},
   "outputs": [],
   "source": []
  },
  {
   "cell_type": "code",
   "execution_count": null,
   "id": "particular-approval",
   "metadata": {},
   "outputs": [],
   "source": []
  },
  {
   "cell_type": "code",
   "execution_count": null,
   "id": "outer-communication",
   "metadata": {},
   "outputs": [],
   "source": []
  },
  {
   "cell_type": "code",
   "execution_count": null,
   "id": "legislative-plane",
   "metadata": {},
   "outputs": [],
   "source": []
  },
  {
   "cell_type": "code",
   "execution_count": null,
   "id": "italian-internet",
   "metadata": {},
   "outputs": [],
   "source": []
  },
  {
   "cell_type": "code",
   "execution_count": null,
   "id": "attended-warrior",
   "metadata": {},
   "outputs": [],
   "source": []
  },
  {
   "cell_type": "code",
   "execution_count": null,
   "id": "adequate-avenue",
   "metadata": {},
   "outputs": [],
   "source": []
  },
  {
   "cell_type": "code",
   "execution_count": null,
   "id": "mature-channel",
   "metadata": {},
   "outputs": [],
   "source": []
  },
  {
   "cell_type": "code",
   "execution_count": null,
   "id": "compact-measure",
   "metadata": {},
   "outputs": [],
   "source": []
  },
  {
   "cell_type": "code",
   "execution_count": null,
   "id": "civilian-slovakia",
   "metadata": {},
   "outputs": [],
   "source": []
  },
  {
   "cell_type": "code",
   "execution_count": null,
   "id": "fifteen-sender",
   "metadata": {},
   "outputs": [],
   "source": []
  }
 ],
 "metadata": {
  "kernelspec": {
   "display_name": "Python 3",
   "language": "python",
   "name": "python3"
  },
  "language_info": {
   "codemirror_mode": {
    "name": "ipython",
    "version": 3
   },
   "file_extension": ".py",
   "mimetype": "text/x-python",
   "name": "python",
   "nbconvert_exporter": "python",
   "pygments_lexer": "ipython3",
   "version": "3.8.8"
  }
 },
 "nbformat": 4,
 "nbformat_minor": 5
}
