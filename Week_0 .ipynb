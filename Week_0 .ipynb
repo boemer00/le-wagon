{
 "cells": [
  {
   "cell_type": "markdown",
   "id": "emerging-oregon",
   "metadata": {},
   "source": [
    "# Day 1\n",
    "### Morning challenges from CodeWars"
   ]
  },
  {
   "cell_type": "markdown",
   "id": "rising-guide",
   "metadata": {},
   "source": [
    "1 - Your task is to create functionisDivideBy (or is_divide_by) to check if an integer number is divisible by each out of two arguments."
   ]
  },
  {
   "cell_type": "code",
   "execution_count": null,
   "id": "crazy-cologne",
   "metadata": {},
   "outputs": [],
   "source": [
    "def is_divide_by(number, a, b):\n",
    "    return number % a == 0 and number % b == 0"
   ]
  },
  {
   "cell_type": "code",
   "execution_count": null,
   "id": "respected-density",
   "metadata": {},
   "outputs": [],
   "source": [
    "print(is_divide_by(8, 2, 4))"
   ]
  },
  {
   "cell_type": "markdown",
   "id": "neither-prompt",
   "metadata": {},
   "source": [
    "2 - Define a method hello that returns \"Hello, Name!\" to a given name, or says Hello, World! if name is not given (or passed as an empty String). Assuming that name is a String and it checks for user typos to return a name with a first capital letter (Xxxx)."
   ]
  },
  {
   "cell_type": "code",
   "execution_count": null,
   "id": "given-anniversary",
   "metadata": {},
   "outputs": [],
   "source": [
    "def hello(name=\"\"):\n",
    "    return f\"Hello, {name.capitalize() if name else 'World'}!\""
   ]
  },
  {
   "cell_type": "code",
   "execution_count": null,
   "id": "lined-august",
   "metadata": {},
   "outputs": [],
   "source": [
    "print(hello('jOhN'))"
   ]
  },
  {
   "cell_type": "markdown",
   "id": "strong-brand",
   "metadata": {},
   "source": [
    "3 - You are given the length and width of a 4-sided polygon. The polygon can either be a rectangle or a square.\n",
    "If it is a square, return its area. If it is a rectangle, return its perimeter."
   ]
  },
  {
   "cell_type": "code",
   "execution_count": null,
   "id": "infectious-gauge",
   "metadata": {},
   "outputs": [],
   "source": [
    "def area_or_perimeter(l, w):\n",
    "    return l * w if l == w else (l + w) * 2"
   ]
  },
  {
   "cell_type": "code",
   "execution_count": null,
   "id": "massive-style",
   "metadata": {},
   "outputs": [],
   "source": [
    "print(area_or_perimeter(6, 10))"
   ]
  },
  {
   "cell_type": "markdown",
   "id": "environmental-family",
   "metadata": {},
   "source": [
    "4 - Nathan loves cycling. Because Nathan knows it is important to stay hydrated, he drinks 0.5 litres of water per hour of cycling. You get given the time in hours and you need to return the number of litres Nathan will drink, rounded to the smallest value."
   ]
  },
  {
   "cell_type": "code",
   "execution_count": null,
   "id": "hearing-martin",
   "metadata": {},
   "outputs": [],
   "source": [
    "def litres(time):\n",
    "    return int(time/2)"
   ]
  },
  {
   "cell_type": "code",
   "execution_count": null,
   "id": "norman-insulation",
   "metadata": {},
   "outputs": [],
   "source": [
    "def litres(time):    # clever solution\n",
    "    return time // 2        "
   ]
  },
  {
   "cell_type": "code",
   "execution_count": null,
   "id": "geological-conversation",
   "metadata": {},
   "outputs": [],
   "source": [
    "print(litres(12.3))"
   ]
  },
  {
   "cell_type": "markdown",
   "id": "executive-forestry",
   "metadata": {},
   "source": [
    "5 - Create a method `is_uppercase()` to see whether the string is ALL CAPS."
   ]
  },
  {
   "cell_type": "code",
   "execution_count": null,
   "id": "binding-account",
   "metadata": {},
   "outputs": [],
   "source": [
    "def is_uppercase(inp):\n",
    "    return inp.isupper()"
   ]
  },
  {
   "cell_type": "code",
   "execution_count": null,
   "id": "phantom-spiritual",
   "metadata": {},
   "outputs": [],
   "source": [
    "print(is_uppercase(\"hello I AM DONALD\"))"
   ]
  },
  {
   "cell_type": "markdown",
   "id": "intended-craps",
   "metadata": {},
   "source": [
    "### Afternoon challenges"
   ]
  },
  {
   "cell_type": "markdown",
   "id": "handed-parker",
   "metadata": {},
   "source": [
    "**Compute name**\n",
    "Implement a compute_name function line 2. Given the first_name, middle_name, and last_name, it should return the full name of the person.\n",
    "constraint: You must use string interpolation with f\"{}\" to build this full name.\n",
    "\n",
    "**Key learning points**\n",
    "Again, ask yourself these questions and make sure you can answer all of them:\n",
    "\n",
    "**on variables** What are the variables in your code?\n",
    "Where do you assign values to these variables and where do you use them?\n",
    "What’s the scope of a variable?\n",
    "\n",
    "**on functions** What is the function of your program? Where do you define it?\n",
    "Where do you call this method and with which arguments?\n",
    "What’s the flow of your program when you try to read it line by line?\n",
    "\n",
    "**on strings** What’s string interpolation? What’s the syntax to “insert” some python expression in a string?\n"
   ]
  },
  {
   "cell_type": "code",
   "execution_count": null,
   "id": "impaired-authorization",
   "metadata": {},
   "outputs": [],
   "source": [
    "def compute_name(first_name, middle_name,last_name):\n",
    "    return f'{first_name} {middle_name} {last_name}'"
   ]
  },
  {
   "cell_type": "code",
   "execution_count": null,
   "id": "english-restoration",
   "metadata": {},
   "outputs": [],
   "source": [
    "print(compute_name('benjamin', 'romain', 'baranger'))"
   ]
  },
  {
   "cell_type": "markdown",
   "id": "modular-freeware",
   "metadata": {},
   "source": [
    "We can break a number into different contiguous sub-subsequence parts. For example, the number 324 can be broken into parts like (3, 2, 4, 32, 24, 324). A colorful number is a number where the products of all the subsets of the digits are different. eg: 263 is a colorful number (2, 6, 3, 2x6, 6x3, 2x6x3) are all different. 236 is not (2, 3, 6, 2x3, 3x6, 2x3x6) has 6 twice (6 and 2x3)\n",
    "\n",
    "**Specs**\n",
    "We want you to write a function is_colorful which takes a single number as an argument and returns True if the number is colorful, False otherwise. For this exercise, only consider numbers with up to 3 digits (not more), eg:\n",
    "is_colorful(263) #=> True\n",
    "is_colorful(236) #=> False"
   ]
  },
  {
   "cell_type": "code",
   "execution_count": null,
   "id": "minor-venezuela",
   "metadata": {},
   "outputs": [],
   "source": [
    "def is_colorful(n):\n",
    "    dig = [int(x) for x in str(n)]\n",
    "    if len(dig) <= 2:\n",
    "        s0 = dig[0]\n",
    "        s1 = dig[1]\n",
    "        s3 = int(dig[0]) * int(dig[1])\n",
    "        return s0 != s1 and s0 != s3\n",
    "          \n",
    "    if len(dig) == 3:\n",
    "        s0 = dig[0]\n",
    "        s1 = dig[1]\n",
    "        s2 = dig[2]\n",
    "        s3 = int(dig[0]) * int(dig[1])\n",
    "        s4 = int(dig[1]) * int(dig[2])\n",
    "        return s0 != s1 and s1 != s2 and s2 != s3 and s3 != s4 and s3 != s0 and s3 != s1 and s3 != s2 and s4 != s1 and s4 != s2"
   ]
  },
  {
   "cell_type": "code",
   "execution_count": null,
   "id": "automatic-editor",
   "metadata": {},
   "outputs": [],
   "source": [
    "print(is_colorful(49))\n",
    "print(is_colorful(236))"
   ]
  },
  {
   "cell_type": "code",
   "execution_count": null,
   "id": "opponent-phrase",
   "metadata": {},
   "outputs": [],
   "source": [
    "# for any number\n",
    "def mult(l) :  \n",
    "    # multiply elements one by one\n",
    "    result = 1\n",
    "    for x in l:\n",
    "         result = result * x\n",
    "    return result\n",
    "\n",
    "def is_colorful(n):\n",
    "    dig = [int(x) for x in str(n)]\n",
    "    \n",
    "    l = []\n",
    "    for i in range(len(dig)-1):\n",
    "        prod = dig[i] * dig[i+1]\n",
    "        l.append(prod)\n",
    "    l.extend(dig)\n",
    "    \n",
    "    if len(dig) == 2:\n",
    "        return len(set(l)) == len(l)\n",
    "    l.append(mult(dig))\n",
    "      \n",
    "    return len(set(l)) == len(l)"
   ]
  },
  {
   "cell_type": "code",
   "execution_count": null,
   "id": "03c7b527",
   "metadata": {},
   "outputs": [],
   "source": [
    "print(is_colorful(49))\n",
    "print(is_colorful(236))"
   ]
  },
  {
   "cell_type": "markdown",
   "id": "above-anaheim",
   "metadata": {},
   "source": [
    "**Simple version** In this exercise, we will create your own personal coach.\n",
    "Unfortunately though, the coach is a little stupid and can only exhibit the following behavior:\n",
    "\n",
    "If you don’t ask them something, but just tell them something (e.g. \"I met a girl last night\"), they will just answer back \"I don't care, get dressed and go to work!\"\n",
    "If you ask them something (e.g. \"Can I eat some pizza?\"), they won’t be of much help either and they will tell you \"Silly question, get dressed and go to work!\"\n",
    "The only way to get rid of them is to tell them what they wants to hear: \"I am going to work right now!\".\n",
    "Let’s make a comparison between the real world and the code world on this exercise.\n",
    "The objectives of this challenge are:\n",
    "\n",
    "Understand the flow of a program and learn how to “read” through your code, line by line\n",
    "Learn about conditional statements\n",
    "Learn about coding structures that modify your program flow\n",
    "Specs\n",
    "\n",
    "Coach answer\n",
    "Define the coach_answer function line 2 in the code editor.\n",
    "\n",
    "It should take one argument, your_message which is the sentence you tell the coach.\n",
    "The function should return a str (i.e., the coach’s answer) which will obviously depend on which value is passed in your_message.\n",
    "The function should not return anything if you tell the coach what they want to hear\n"
   ]
  },
  {
   "cell_type": "code",
   "execution_count": null,
   "id": "analyzed-zambia",
   "metadata": {},
   "outputs": [],
   "source": [
    "def coach_answer(your_message):\n",
    "    if your_message == \"I am going to work right now!\":\n",
    "        return ''     \n",
    "    \n",
    "    elif ('?' or '!') not in your_message:\n",
    "        return \"I don't care, get dressed and go to work!\"\n",
    "    \n",
    "    elif your_message.endswith('?'):\n",
    "        return \"Silly question, get dressed and go to work!\" "
   ]
  },
  {
   "cell_type": "code",
   "execution_count": null,
   "id": "framed-hollow",
   "metadata": {},
   "outputs": [],
   "source": [
    "print(coach_answer(\"Hey Coach?\"))"
   ]
  },
  {
   "cell_type": "markdown",
   "id": "considered-evaluation",
   "metadata": {},
   "source": [
    "**Enhanced version**\n",
    "Now let’s implement an enhanced version. Define the function coach_answer_enhanced line 13. If you SHOUT at your coach, they will like it, and will say: I can feel your motivation! before the regular answer (from the non-enhanced version). Remember that shouting on the Internet is done by writing in CAPS LOCK! However, if you shout “I AM GOING TO WORK RIGHT NOW!”, your coach will leave you alone.\n",
    "\n",
    "**Key learning points**\n",
    "What’s the usual flow of a program?\n",
    "How do structures like if..else change this flow?\n",
    "How do these structures work?\n",
    "What’s a conditional statement? Which values can it take? What’s the difference between = and ==?\n",
    "Does a simple function call change the flow of your program?"
   ]
  },
  {
   "cell_type": "code",
   "execution_count": null,
   "id": "bibliographic-fourth",
   "metadata": {},
   "outputs": [],
   "source": [
    "def coach_answer_enhanced(your_message):\n",
    "    if your_message == \"I am going to work right now!\" :\n",
    "        return \"\"\n",
    "    \n",
    "    if your_message == \"I AM GOING TO WORK RIGHT NOW!\":\n",
    "        return \"\"\n",
    "    \n",
    "    elif your_message == 'I would love some pizza':\n",
    "        return \"I don't care, get dressed and go to work!\"\n",
    "    \n",
    "    elif your_message == 'Can I eat some pizza?':\n",
    "        return \"Silly question, get dressed and go to work!\"\n",
    "    \n",
    "    elif your_message == \"I WOULD LOVE SOME PIZZA!\":\n",
    "        return \"I can feel your motivation! I don't care, get dressed and go to work!\"\n",
    "    \n",
    "    elif your_message == \"CAN I EAT SOME PIZZA?\":\n",
    "        return \"I can feel your motivation! Silly question, get dressed and go to work!\""
   ]
  },
  {
   "cell_type": "code",
   "execution_count": null,
   "id": "apart-possession",
   "metadata": {},
   "outputs": [],
   "source": [
    "print(coach_answer_enhanced(\"CAN I EAT SOME PIZZA?\"))"
   ]
  },
  {
   "cell_type": "markdown",
   "id": "finnish-party",
   "metadata": {},
   "source": [
    "# Day 2\n",
    "\n",
    "### Morning challenges from CodeWars"
   ]
  },
  {
   "cell_type": "markdown",
   "id": "clear-october",
   "metadata": {},
   "source": [
    "[**Testing 1-2-3**](https://www.codewars.com/kata/54bf85e3d5b56c7a05000cf9/python)\n",
    "Your team is writing a fancy new text editor and you've been tasked with implementing the line numbering. Write a function which takes a list of strings and returns each line prepended by the correct number. The numbering starts at 1. The format is `n: string`. Notice the colon and space in between."
   ]
  },
  {
   "cell_type": "code",
   "execution_count": null,
   "id": "separated-organization",
   "metadata": {},
   "outputs": [],
   "source": [
    "def number(lines):\n",
    "    l = []\n",
    "    for i,v in enumerate(lines):\n",
    "        l.append(f'{i+1}: {v}')\n",
    "    return l"
   ]
  },
  {
   "cell_type": "code",
   "execution_count": null,
   "id": "driving-charity",
   "metadata": {},
   "outputs": [],
   "source": [
    "print(number([\"a\", \"b\", \"c\"]))"
   ]
  },
  {
   "cell_type": "code",
   "execution_count": null,
   "id": "blind-sending",
   "metadata": {},
   "outputs": [],
   "source": [
    "def number(lines):\n",
    "    return [f'{i}: {v}' for i,v in enumerate(lines,1)]"
   ]
  },
  {
   "cell_type": "code",
   "execution_count": null,
   "id": "dense-duncan",
   "metadata": {},
   "outputs": [],
   "source": [
    "print(number([\"a\", \"b\", \"c\"]))"
   ]
  },
  {
   "cell_type": "markdown",
   "id": "adult-transaction",
   "metadata": {},
   "source": [
    "[**Running out of space**](https://www.codewars.com/kata/56576f82ab83ee8268000059/train/python) Kevin is noticing his space run out! Write a function that removes the spaces from the values and returns an array showing the space decreasing. For example, running this function on the array ['i', 'have','no','space'] would produce ['i','ihave','ihaveno','ihavenospace']."
   ]
  },
  {
   "cell_type": "code",
   "execution_count": null,
   "id": "infinite-package",
   "metadata": {},
   "outputs": [],
   "source": [
    "# solution 1\n",
    "def spacey(array):\n",
    "    s = ''\n",
    "    l = []\n",
    "    for word in array:\n",
    "        s += word\n",
    "        l.append(s)\n",
    "    return l"
   ]
  },
  {
   "cell_type": "code",
   "execution_count": null,
   "id": "sixth-theta",
   "metadata": {},
   "outputs": [],
   "source": [
    "print(spacey(['kevin', 'has','no','space']))"
   ]
  },
  {
   "cell_type": "code",
   "execution_count": null,
   "id": "roman-verification",
   "metadata": {},
   "outputs": [],
   "source": [
    "# solution 2\n",
    "def spacey(array):\n",
    "    return [''.join(array[:i+1]) for i in range(len(array))]   # [:i+1] because the stop index is not included"
   ]
  },
  {
   "cell_type": "code",
   "execution_count": null,
   "id": "finnish-recording",
   "metadata": {},
   "outputs": [],
   "source": [
    "print(spacey(['kevin','has','no','space']))"
   ]
  },
  {
   "cell_type": "code",
   "execution_count": null,
   "id": "particular-blind",
   "metadata": {},
   "outputs": [],
   "source": [
    "# solution 3\n",
    "from itertools import accumulate\n",
    "\n",
    "def spacey(a):\n",
    "    return list(accumulate(a))"
   ]
  },
  {
   "cell_type": "code",
   "execution_count": null,
   "id": "racial-jewel",
   "metadata": {},
   "outputs": [],
   "source": [
    "print(spacey(['kevin','has','no','space']))"
   ]
  },
  {
   "cell_type": "markdown",
   "id": "partial-relay",
   "metadata": {},
   "source": [
    "[**Sum of two lowest positive integers**](https://www.codewars.com/kata/558fc85d8fd1938afb000014/train/python) Create a function that returns the sum of the two lowest positive numbers given an array of minimum 4 positive integers. No floats or non-positive integers will be passed. For example, when an array is passed like `[19, 5, 42, 2, 77]`, the output should be `7`."
   ]
  },
  {
   "cell_type": "code",
   "execution_count": null,
   "id": "mechanical-bailey",
   "metadata": {},
   "outputs": [],
   "source": [
    "# solution 1\n",
    "def sum_two_smallest_numbers(n):\n",
    "    n.sort()\n",
    "    return n[0] + n[1]"
   ]
  },
  {
   "cell_type": "code",
   "execution_count": null,
   "id": "quantitative-hammer",
   "metadata": {},
   "outputs": [],
   "source": [
    "print(sum_two_smallest_numbers([7, 15, 12, 18, 22]))"
   ]
  },
  {
   "cell_type": "code",
   "execution_count": null,
   "id": "recorded-interest",
   "metadata": {},
   "outputs": [],
   "source": [
    "# solution 2\n",
    "def sum_two_smallest_numbers(numbers):\n",
    "    return sum(sorted(numbers)[:2])"
   ]
  },
  {
   "cell_type": "code",
   "execution_count": null,
   "id": "appreciated-affiliate",
   "metadata": {},
   "outputs": [],
   "source": [
    "print(sum_two_smallest_numbers([7, 15, 12, 18, 22]))"
   ]
  },
  {
   "cell_type": "markdown",
   "id": "happy-scheduling",
   "metadata": {},
   "source": [
    "[**Password validator**](https://www.codewars.com/kata/56a921fa8c5167d8e7000053/python)\n",
    "Your job is to create a simple password validation function, as seen on many websites. The rules for a valid password are as follows:\n",
    "\n",
    "- There needs to be at least 1 uppercase letter.\n",
    "- There needs to be at least 1 lowercase letter.\n",
    "- There needs to be at least 1 number.\n",
    "- The password needs to be at least 8 characters long.\n",
    "- You are permitted to use any methods to validate the password."
   ]
  },
  {
   "cell_type": "code",
   "execution_count": null,
   "id": "chemical-catch",
   "metadata": {},
   "outputs": [],
   "source": [
    "import re\n",
    "def password(string):\n",
    "    if len(string) < 8:\n",
    "        return False\n",
    "    else:\n",
    "        return bool(re.match(r'(?=.*[A-Z])(?=.*[a-z])(?=.*\\d)', string))  # r'[0-9][a-z][A-Z]' did not work!"
   ]
  },
  {
   "cell_type": "code",
   "execution_count": null,
   "id": "present-withdrawal",
   "metadata": {},
   "outputs": [],
   "source": [
    "print(password(\"aBcc23476tt\"))"
   ]
  },
  {
   "cell_type": "code",
   "execution_count": null,
   "id": "centered-company",
   "metadata": {},
   "outputs": [],
   "source": [
    "# cleaner solution\n",
    "import re\n",
    "def password(s):\n",
    "    return bool(re.match(r'(?=.*[A-Z])(?=.*[a-z])(?=.*\\d).{8}', s))"
   ]
  },
  {
   "cell_type": "code",
   "execution_count": null,
   "id": "respective-stocks",
   "metadata": {},
   "outputs": [],
   "source": [
    "print(password(\"aBcc23476tt\"))"
   ]
  },
  {
   "cell_type": "markdown",
   "id": "indie-institute",
   "metadata": {},
   "source": [
    "[**Password Maker**](https://www.codewars.com/kata/5637b03c6be7e01d99000046/train/python)\n",
    "One suggestion to build a satisfactory password is to start with a memorable phrase or sentence and make a password by extracting the first letter of each word. Even better is to replace some of those letters with numbers (e.g., the letter O can be replaced with the number 0):\n",
    "- instead of including i or I put the number 1 in the password;\n",
    "- instead of including o or O put the number 0 in the password;\n",
    "- instead of including s or S put the number 5 in the password."
   ]
  },
  {
   "cell_type": "code",
   "execution_count": null,
   "id": "interracial-covering",
   "metadata": {},
   "outputs": [],
   "source": [
    "# solution 1\n",
    "def make_password(phrase):\n",
    "    p = ''.join(word[0] for word in phrase.split())\n",
    "    return p.replace('i','1').replace('I','1').replace('o','0').replace('O','0').replace('s','5').replace('S','5')"
   ]
  },
  {
   "cell_type": "code",
   "execution_count": null,
   "id": "impressed-madonna",
   "metadata": {},
   "outputs": [],
   "source": [
    "print(make_password(\"Give me liberty or give me death\"))\n",
    "print(make_password(\"Whatever it takes!\"))"
   ]
  },
  {
   "cell_type": "code",
   "execution_count": null,
   "id": "affected-forestry",
   "metadata": {},
   "outputs": [],
   "source": [
    "# solution 2\n",
    "SWAP = {'i': '1', 'I': '1', 'o': '0', 'O': '0', 's': '5', 'S': '5'}\n",
    "def make_password(phrase):\n",
    "    return ''.join(SWAP.get(a[0], a[0]) for a in phrase.split())"
   ]
  },
  {
   "cell_type": "code",
   "execution_count": null,
   "id": "developing-warren",
   "metadata": {},
   "outputs": [],
   "source": [
    "# solution 3\n",
    "import string\n",
    "def make_password(phrase):\n",
    "    return ''.join(word[0] for word in phrase.split()).translate(maketrans('iosIOS', '105105'))"
   ]
  },
  {
   "cell_type": "markdown",
   "id": "breeding-honolulu",
   "metadata": {},
   "source": [
    "[**Return a string's even characters**](https://www.codewars.com/kata/566044325f8fddc1c000002c/train/python)\n",
    "Write a function that returns a sequence (index begins with 1) of all the even characters from a string. If the string is smaller than two characters or longer than 100 characters, the function should return \"invalid string\""
   ]
  },
  {
   "cell_type": "code",
   "execution_count": null,
   "id": "toxic-device",
   "metadata": {},
   "outputs": [],
   "source": [
    "# solution 1\n",
    "def even_chars(st): \n",
    "    if (len(st) < 2) or (len(st) > 100):\n",
    "        return 'invalid string'\n",
    "    else:\n",
    "        return list(st[1::2])"
   ]
  },
  {
   "cell_type": "code",
   "execution_count": null,
   "id": "biological-thesaurus",
   "metadata": {},
   "outputs": [],
   "source": [
    "print(even_chars(\"abcdefghijklm\"))"
   ]
  },
  {
   "cell_type": "code",
   "execution_count": null,
   "id": "intermediate-license",
   "metadata": {},
   "outputs": [],
   "source": [
    "# solution 2\n",
    "def even_chars(st):\n",
    "    if len(st) < 2 or len(st)> 100:\n",
    "        return 'invalid string'\n",
    "    else:\n",
    "        return [st[i] for i in range(1, len(st), 2)]"
   ]
  },
  {
   "cell_type": "code",
   "execution_count": null,
   "id": "prostate-monitoring",
   "metadata": {},
   "outputs": [],
   "source": [
    "print(even_chars(\"c7(**^5Xkghi-?klm\"))"
   ]
  },
  {
   "cell_type": "markdown",
   "id": "brutal-method",
   "metadata": {},
   "source": [
    "[**Manhattan Distance**](https://www.codewars.com/kata/52998bf8caa22d98b800003a)\n",
    "The distance formula can be used to find the distance between two points. What if we were trying to walk from point A to point B, but there were buildings in the way? We would need some other formula...but which?\n",
    "\n",
    "Manhattan distance is the distance between two points in a grid (like the grid-like street geography of the New York borough of Manhattan) calculated by only taking a vertical and/or horizontal path. Complete the function that accepts two points and returns the Manhattan Distance between the two points. The points are arrays or tuples containing the x and y coordinate in the grid. You can think of x as the row in the grid, and y as the column."
   ]
  },
  {
   "cell_type": "code",
   "execution_count": null,
   "id": "alive-skirt",
   "metadata": {},
   "outputs": [],
   "source": [
    "def manhattan_distance(a, b):\n",
    "    return abs(b[0]-a[0])+abs(b[1]-a[1])"
   ]
  },
  {
   "cell_type": "code",
   "execution_count": null,
   "id": "fitted-feeling",
   "metadata": {},
   "outputs": [],
   "source": [
    "print(manhattan_distance([1, 1],[1, 1]))"
   ]
  },
  {
   "cell_type": "markdown",
   "id": "promising-dietary",
   "metadata": {},
   "source": [
    "[**Mexican Wave**](https://www.codewars.com/kata/58f5c63f1e26ecda7e000029/train/python)\n",
    "Create a function that turns a string into a Mexican Wave. You will be passed a string and you must return that string in an array where an uppercase letter is a person standing up.\n",
    "- The input string will always be lower case but maybe empty.\n",
    "- If the character in the string is whitespace then pass over it as if it was an empty seat\n",
    "\n",
    "wave(\"hello\") => [\"Hello\", \"hEllo\", \"heLlo\", \"helLo\", \"hellO\"]"
   ]
  },
  {
   "cell_type": "code",
   "execution_count": null,
   "id": "distinguished-concert",
   "metadata": {},
   "outputs": [],
   "source": [
    "# solution 1\n",
    "def wave(p):\n",
    "    for i in range(len(p)):\n",
    "        if p[i] != ' ':\n",
    "            pass\n",
    "        else:\n",
    "            return [p[:i] + p[i].upper() + p[i+1:]]"
   ]
  },
  {
   "cell_type": "code",
   "execution_count": null,
   "id": "south-trailer",
   "metadata": {},
   "outputs": [],
   "source": [
    "p = 'hello'\n",
    "print(wave(p))"
   ]
  },
  {
   "cell_type": "code",
   "execution_count": null,
   "id": "federal-correspondence",
   "metadata": {},
   "outputs": [],
   "source": [
    "# solution 2\n",
    "def wave(p):\n",
    "    return [p[:i] + p[i].upper() + p[i+1:] for i in range(len(p)) if p[i] != ' ']"
   ]
  },
  {
   "cell_type": "code",
   "execution_count": null,
   "id": "geological-penetration",
   "metadata": {},
   "outputs": [],
   "source": [
    "print(wave('hello'))"
   ]
  },
  {
   "cell_type": "code",
   "execution_count": null,
   "id": "convenient-hopkins",
   "metadata": {},
   "outputs": [],
   "source": [
    "# failed solution\n",
    "def waves(p):\n",
    "    if p == '':\n",
    "        return list('')\n",
    "    else:\n",
    "        l = []\n",
    "        for i in range(len(p)):\n",
    "            if p[i] == '':\n",
    "                pass\n",
    "            else:\n",
    "                s = p.replace(p[i],p[i].upper())\n",
    "                l.append(s)\n",
    "    return l"
   ]
  },
  {
   "cell_type": "code",
   "execution_count": null,
   "id": "criminal-failure",
   "metadata": {},
   "outputs": [],
   "source": [
    "print(waves('hello'))  ## double uppercase LL"
   ]
  },
  {
   "cell_type": "markdown",
   "id": "continued-eligibility",
   "metadata": {},
   "source": [
    "[**Multiplication table**](https://www.codewars.com/kata/534d2f5b5371ecf8d2000a08/train/python) Your task, is to create NxN multiplication table, of size provided in parameter."
   ]
  },
  {
   "cell_type": "code",
   "execution_count": null,
   "id": "identified-bumper",
   "metadata": {},
   "outputs": [],
   "source": [
    "# solution 1\n",
    "def multiplication_table(size): # size = 3\n",
    "    x = range(1,size+1)         # --> 1,2,3\n",
    "    y = range(1,size+1)         # --> 1,2,3\n",
    "    return [[i*j for j in x] for i in y]"
   ]
  },
  {
   "cell_type": "code",
   "execution_count": null,
   "id": "detected-income",
   "metadata": {},
   "outputs": [],
   "source": [
    "print(multiplication_table(3)) # --> [[1,2,3],[2,4,6],[3,6,9]])"
   ]
  },
  {
   "cell_type": "code",
   "execution_count": null,
   "id": "interstate-speaking",
   "metadata": {},
   "outputs": [],
   "source": [
    "# solution 2\n",
    "def multiplication_table(size):\n",
    "    columns = []\n",
    "    for i in range(1,size+1):\n",
    "        rows = []\n",
    "        for j in range(1,size+1):\n",
    "            rows.append(i*j)\n",
    "        columns.append(rows)\n",
    "        \n",
    "    return columns"
   ]
  },
  {
   "cell_type": "code",
   "execution_count": null,
   "id": "registered-testament",
   "metadata": {},
   "outputs": [],
   "source": [
    "print(multiplication_table(4))"
   ]
  },
  {
   "cell_type": "markdown",
   "id": "raising-skating",
   "metadata": {},
   "source": [
    "### Afternoon challenges"
   ]
  },
  {
   "cell_type": "markdown",
   "id": "micro-arthur",
   "metadata": {},
   "source": [
    "**Background and objectives**\n",
    "Quite often our programs will need to accept inputs from a user, whether through terminal commands, API requests, or form submissions. In these cases inputs are processed as a str data type. Let’s pracitce type conversion by building a simple_calculator function.\n",
    "\n",
    "**Specs**\n",
    "Our function should take a single list of strings as an argument, containing our first opperand, followed by an operator and then the 2nd operand. eg:\n",
    "simple_calculator(['1', '+', '1' ]) #=> 2\n",
    "The function should return 'Please enter valid format: [Operand, Operator, Operand]' for arguments that don’t match the required format\n",
    "The funtion should work with the following simple operators +, -, *, /, %, and should return'Please enter a valid operator [ +, -, /, *, % ]' if any other operators are passed"
   ]
  },
  {
   "cell_type": "code",
   "execution_count": null,
   "id": "extensive-registration",
   "metadata": {},
   "outputs": [],
   "source": [
    "def simple_calculator(l):\n",
    "    if len(l) != 3:\n",
    "        return 'Please enter valid format: [Operand, Operator, Operand]'\n",
    "    elif l[1] not in ['+', '-', '/', '*', '%']:\n",
    "        return 'Please enter a valid operator [ +, -, /, *, % ]'\n",
    "    \n",
    "    num1 = float(l[0])\n",
    "    num2 = float(l[2])\n",
    "\n",
    "    if l[1] == '+':\n",
    "        return(num1 + num2)\n",
    "\n",
    "    elif l[1] == '-':\n",
    "        return(num1 - num2)\n",
    "\n",
    "    elif l[1] == '*':\n",
    "        return(num1 * num2)\n",
    "\n",
    "    elif l[1] == '/':\n",
    "        return(num1 / num2)\n",
    "        \n",
    "    elif l[1] == '%':\n",
    "        return(num1 % num2)\n",
    "        \n",
    "    else:\n",
    "        return 'Please enter valid format: [Operand, Operator, Operand]'"
   ]
  },
  {
   "cell_type": "code",
   "execution_count": null,
   "id": "expected-prague",
   "metadata": {},
   "outputs": [],
   "source": [
    "l = [3,'+',7]\n",
    "print(simple_calculator(l))"
   ]
  },
  {
   "cell_type": "markdown",
   "id": "reflected-truck",
   "metadata": {},
   "source": [
    "**Specs**\n",
    "Write a function fizz_buzz which takes a single number as an argument, and returns a list of numbers from 1 to that number, but replaces some of them according to these rules:\n",
    "\n",
    "- If the number is divisible by 3, then replace it with ‘Fizz’\n",
    "- If the number is divisible by 5, then replace it with ‘Buzz’\n",
    "- If the number is divisible by both 3 and 5, then replace it with ‘FizzBuzz’"
   ]
  },
  {
   "cell_type": "code",
   "execution_count": null,
   "id": "severe-slovakia",
   "metadata": {},
   "outputs": [],
   "source": [
    "def fizz_buzz(n):\n",
    "    l = []\n",
    "    for i in range(1,n+1):\n",
    "        if i % 15 == 0:\n",
    "            l.append(\"FizzBuzz\")\n",
    "        elif i % 3 == 0:\n",
    "            l.append(\"Fizz\")\n",
    "        elif i % 5 == 0:\n",
    "            l.append(\"Buzz\")\n",
    "        else:\n",
    "            l.append(str(i))\n",
    "    return l"
   ]
  },
  {
   "cell_type": "code",
   "execution_count": null,
   "id": "celtic-newman",
   "metadata": {},
   "outputs": [],
   "source": [
    "print(fizz_buzz(16))"
   ]
  },
  {
   "cell_type": "markdown",
   "id": "alone-possession",
   "metadata": {},
   "source": [
    "**Background & Objectives**\n",
    "Thanks to Python’s built in random library we have access to a shuffle method, which when called on a list - returns a shuffled versino of that list. In this advanced exercise, let’s try to code a shuffle function ourselves from scratch.\n",
    "\n",
    "**Specs**\n",
    "Code a `manual_shuffle` function:\n",
    "\n",
    "- The function should take one argument, a list, and return a new list with all the items of your original list in a new, randomized order\n",
    "- Do Not use any built in list methods to manipulate the order such as sort()\n",
    "- Do Not use the built in shuffle method in python’s random library (let’s do it the hard way). But you might find some other helpful methods in there, we imported the random library for you at the top of the file.\n",
    "\n",
    "*Hint*: You should not makes changes to the original List, the copy method will come in handy. One approach could be to create a new empty array B, and until A is empty, randomly select an index in A, append the element in A at that index into B, then delete that index in A. Proceed until A is empty. B should contain the new shuffled array!"
   ]
  },
  {
   "cell_type": "code",
   "execution_count": null,
   "id": "introductory-brooklyn",
   "metadata": {},
   "outputs": [],
   "source": [
    "import random\n",
    "def manual_shuffle(a):\n",
    "    c = a.copy()\n",
    "    b = []\n",
    "    while len(c) > 0:\n",
    "        i = random.randrange(len(c))\n",
    "        b.append(c[i])\n",
    "        del(c[i])\n",
    "        \n",
    "    return b"
   ]
  },
  {
   "cell_type": "code",
   "execution_count": null,
   "id": "neutral-hello",
   "metadata": {},
   "outputs": [],
   "source": [
    "a = ['You', 'should', 'make', 'changes']"
   ]
  },
  {
   "cell_type": "code",
   "execution_count": null,
   "id": "incorrect-setup",
   "metadata": {},
   "outputs": [],
   "source": [
    "print(manual_shuffle(a))"
   ]
  },
  {
   "cell_type": "markdown",
   "id": "little-consideration",
   "metadata": {},
   "source": [
    "# Day 3\n",
    "\n",
    "### Morning challenges from CodeWars"
   ]
  },
  {
   "cell_type": "markdown",
   "id": "about-handy",
   "metadata": {},
   "source": [
    "[**Counting duplicates**](https://www.codewars.com/kata/54bf1c2cd5b56cc47f0007a1/python) Write a function that will return the count of distinct case-insensitive alphabetic characters and numeric digits that occur more than once in the input string. The input string can be assumed to contain only alphabets (both uppercase and lowercase) and numeric digits.\n",
    "\n",
    "- \"abcde\" -> 0 # no characters repeats more than once\n",
    "- \"aabbcde\" -> 2 # 'a' and 'b'\n",
    "- \"aabBcde\" -> 2 # 'a' occurs twice and 'b' twice (`b` and `B`)\n",
    "- \"indivisibility\" -> 1 # 'i' occurs six times"
   ]
  },
  {
   "cell_type": "code",
   "execution_count": null,
   "id": "phantom-locking",
   "metadata": {},
   "outputs": [],
   "source": [
    "# solution 1\n",
    "def duplicate_count(text):\n",
    "    d = {}\n",
    "    for c in text.lower():\n",
    "        if c in d:\n",
    "            d[c] += 1\n",
    "        else:\n",
    "            d[c] = 1\n",
    "\n",
    "    return len([k for k,v in d.items() if v > 1])   "
   ]
  },
  {
   "cell_type": "code",
   "execution_count": null,
   "id": "orange-quarterly",
   "metadata": {},
   "outputs": [],
   "source": [
    "print(duplicate_count(\"Indivisibilities\"))\n",
    "print(duplicate_count(\"abcd\"))"
   ]
  },
  {
   "cell_type": "code",
   "execution_count": null,
   "id": "attended-warrior",
   "metadata": {},
   "outputs": [],
   "source": [
    "# solution 2\n",
    "def duplicate_count(s):\n",
    "    return len([c for c in set(s.lower()) if s.lower().count(c) > 1])"
   ]
  },
  {
   "cell_type": "markdown",
   "id": "acceptable-subscriber",
   "metadata": {},
   "source": [
    "[**Duplicate Encoder**](https://www.codewars.com/kata/54b42f9314d9229fd6000d9c/python) The goal of this exercise is to convert a string to a new string where each character in the new string is `\"(\"` if that character appears only once in the original string, or `\")\"` if that character appears more than once in the original string. Ignore capitalization when determining if a character is a duplicate.\n",
    "\n",
    "- \"din\"      =>  \"(((\"\n",
    "- \"recede\"   =>  \"()()()\"\n",
    "- \"Success\"  =>  \")())())\""
   ]
  },
  {
   "cell_type": "code",
   "execution_count": null,
   "id": "animated-footwear",
   "metadata": {},
   "outputs": [],
   "source": [
    "# solution 1\n",
    "def duplicate_encode(word):\n",
    "    word = word.lower()\n",
    "    return ''.join('(' if word.count(x) == 1 else ')' for x in word)"
   ]
  },
  {
   "cell_type": "code",
   "execution_count": null,
   "id": "sealed-huntington",
   "metadata": {},
   "outputs": [],
   "source": [
    "# solution 2\n",
    "def duplicate_encode(word):\n",
    "    w = word.lower()\n",
    "    s = ''\n",
    "    for c in w:\n",
    "        if w.count(c) == 1:\n",
    "            s = s + '('\n",
    "        else:\n",
    "            s = s + ')'\n",
    "    return s"
   ]
  },
  {
   "cell_type": "code",
   "execution_count": null,
   "id": "compact-measure",
   "metadata": {},
   "outputs": [],
   "source": [
    "print(duplicate_encode(\"recede\"))\n",
    "print(duplicate_encode(\" (cPaFm\"))"
   ]
  },
  {
   "cell_type": "markdown",
   "id": "perfect-niagara",
   "metadata": {},
   "source": [
    "[**Find the odd int**](https://www.codewars.com/kata/54da5a58ea159efa38000836/python) Given an array of integers, find the one that appears an odd number of times. There will always be only one integer that appears an odd number of times."
   ]
  },
  {
   "cell_type": "code",
   "execution_count": null,
   "id": "fifteen-sender",
   "metadata": {},
   "outputs": [],
   "source": [
    "def find_it(seq):\n",
    "    for c in seq:\n",
    "        if seq.count(c) % 2 == 0:\n",
    "            pass\n",
    "        else:\n",
    "            return c"
   ]
  },
  {
   "cell_type": "code",
   "execution_count": null,
   "id": "worldwide-qatar",
   "metadata": {},
   "outputs": [],
   "source": [
    "seq = [20,1,-1,2,-2,3,3,5,5,1,2,4,20,4,-1,-2,5]\n",
    "print(find_it(seq))"
   ]
  },
  {
   "cell_type": "markdown",
   "id": "revised-theorem",
   "metadata": {},
   "source": [
    "[**Arrh, grabscrab!**](https://www.codewars.com/kata/52b305bec65ea40fe90007a7/train/python)\n",
    "Write a function that will accept a jumble of letters as well as a dictionary, and output a list of words that the pirate might have meant.\n",
    "\n",
    "For example:\n",
    "grabscrab( \"ortsp\", [\"sport\", \"parrot\", \"ports\", \"matey\"] )\n",
    "Should return [\"sport\", \"ports\"].\n",
    "\n",
    "Return matches in the same order as in the dictionary. Return an empty array if there are no matches."
   ]
  },
  {
   "cell_type": "code",
   "execution_count": null,
   "id": "ceramic-process",
   "metadata": {},
   "outputs": [],
   "source": [
    "def grabscrab(letters, possible_words):\n",
    "    return [ word for word in possible_words if sorted(word) == sorted(letters) ]"
   ]
  },
  {
   "cell_type": "markdown",
   "id": "communist-beaver",
   "metadata": {},
   "source": [
    "### Afternoon challenges"
   ]
  },
  {
   "cell_type": "markdown",
   "id": "independent-check",
   "metadata": {},
   "source": [
    "**Background & Objectives**\n",
    "Let’s say you want to stay fit but keep eating McDonalds… You have the brilliant idea to write a quick function that computes the number of calories in your McDonalds order. We’ll use the table below as our abridged McDonalds menu:\n",
    "\n",
    "You need to store the information in a python constant to create a kind of database. For this challenge we will declare our constant directly in the program.py file we are working with, instead of importing it.\n",
    "\n",
    "\n",
    "For instance, below is an example of dict saved to a constant - AGE_OF_STUDENTS - that contains students and their ages:\n",
    "\n",
    "AGE_OF_STUDENTS = {\n",
    "  \"Peter\": 21,\n",
    "  \"George\": 22,\n",
    "  \"Mary\": 20\n",
    "}\n",
    "Don’t forget to read the documentation about dicts. You’ll use them all the time, so make friends with them 😊\n",
    "\n",
    "**Specs**\n",
    "Create a poor_calories_counter function which takes three string arguments and returns the total number of calories for the three items of your order.\n",
    "\n",
    "your function should make use of a Dictionary (obviously!)\n",
    "your function must use our given calorie values! eg:\n",
    "poor_calories_counter(\"McChicken\", \"French Fries\", \"Sprite\")\n",
    "#=> 730\n",
    "your function should return “item_name not found” if an item is not in the dictionary eg:\n",
    "poor_calories_counter(\"Big Mac\", \"Salad\", \"Shrimp Po Boy\") \n",
    "#=> \"Shrimp Po Boy not found\"\n",
    "\n",
    "**Key learning points**\n",
    "- What’s a Dict? When do you use them?\n",
    "- How do you retrieve a value stored in a Dict?"
   ]
  },
  {
   "cell_type": "code",
   "execution_count": null,
   "id": "comfortable-formation",
   "metadata": {},
   "outputs": [],
   "source": [
    "d = {'Hamburger':250,\n",
    "            'Cheese Burger': 300,\n",
    "            'Big Mac': 540,\n",
    "            'McChicken': 350,\n",
    "            'French Fries': 230,\n",
    "            'Salad': 15,\n",
    "            'Coca Cola': 150,\n",
    "            'Sprite': 150\n",
    "           }"
   ]
  },
  {
   "cell_type": "code",
   "execution_count": null,
   "id": "remarkable-basement",
   "metadata": {},
   "outputs": [],
   "source": [
    "def poor_calories_counter(x,y,z):\n",
    "    l = [x,y,z]\n",
    "    cal = 0\n",
    "    for elem in l:\n",
    "        if elem not in d.keys():\n",
    "            return elem + ' not found'\n",
    "        else:\n",
    "            cal += d.get(elem)\n",
    "    \n",
    "    return cal"
   ]
  },
  {
   "cell_type": "code",
   "execution_count": null,
   "id": "seeing-ecuador",
   "metadata": {},
   "outputs": [],
   "source": [
    "x = 'Cheese Burger'\n",
    "y = 'Sprite'\n",
    "z = 'Coca Cola'\n",
    "print(poor_calories_counter(x,y,z))"
   ]
  },
  {
   "cell_type": "markdown",
   "id": "satisfactory-irish",
   "metadata": {},
   "source": [
    "**Background & Objectives**\n",
    "Now, let’s say you want to improve your calorie counter, so that it can accept a list of drinks, burgers, sides, and MEALS. Let’s add these 3 meals to our menu.\n",
    "\n",
    "You may want to store these meals in another constant. Note: don’t try to pre-compute the calories for each meal, just store the dishes that make up the meal. How do you think you could represent the dishes in each meal?\n",
    "\n",
    "Let’s now create an advanced_calories_counter function that will enable us to calculate calories of a combination of both our meals and our individual dishes\n",
    "\n",
    "**Specs**\n",
    "Our function should take a list of any size containing meals and individual dish items, eg:\n",
    "orders = [\"French Fries\", \"Happy Meal\", \"Sprite\", \"Best Of McChicken\"]\n",
    "advanced_calories_counter(orders)\n",
    "#=> 1575\n",
    "Our function should still return ‘item_name not found’ if the dish is not available\n",
    "\n",
    "**Key learning points**\n",
    "- How do you retrieve a value stored in list within a dictionary?\n",
    "- Which data structure would you use to store animal names, alphabetically sorted?\n",
    "- Which data structure would you use to store animal names and their colors?"
   ]
  },
  {
   "cell_type": "code",
   "execution_count": null,
   "id": "provincial-citation",
   "metadata": {},
   "outputs": [],
   "source": [
    "d = {'Hamburger':250,\n",
    "    'Cheese Burger': 300,\n",
    "    'Big Mac': 540,\n",
    "    'McChicken': 350,\n",
    "    'French Fries': 230,\n",
    "    'Salad': 15,\n",
    "    'Coca Cola': 150,\n",
    "    'Sprite': 150\n",
    "    }\n",
    "\n",
    "m = {'Happy Meal': ['Cheese Burger','French Fries','Coca Cola'],\n",
    "     'Best Of Big Mac': ['Big Mac', 'French Fries', 'Coca Cola'],\n",
    "     'Best Of McChicken': ['McChicken', 'Salad', 'Sprite']\n",
    "    }"
   ]
  },
  {
   "cell_type": "code",
   "execution_count": null,
   "id": "greek-viewer",
   "metadata": {},
   "outputs": [],
   "source": [
    "def advanced_calories_counter(l):\n",
    "    cal = 0\n",
    "    for dish in l:\n",
    "        if (dish not in d.keys()) and (dish not in m.keys()):\n",
    "            return dish + ' not found'\n",
    "    \n",
    "    for dish in l:\n",
    "        if dish in d.keys():\n",
    "            cal += d.get(dish)\n",
    "                \n",
    "    combo = []\n",
    "    for dish in l:\n",
    "        if dish in m.keys():\n",
    "            combo.append(m.get(dish))\n",
    "\n",
    "    for dish in combo:\n",
    "        for f in dish:\n",
    "            if f in d.keys():\n",
    "                cal += d.get(f)\n",
    "    \n",
    "    return cal"
   ]
  },
  {
   "cell_type": "code",
   "execution_count": null,
   "id": "copyrighted-appendix",
   "metadata": {},
   "outputs": [],
   "source": [
    "l = ['Happy Meal', 'McChicken']"
   ]
  },
  {
   "cell_type": "code",
   "execution_count": null,
   "id": "dying-workplace",
   "metadata": {},
   "outputs": [],
   "source": [
    "print(advanced_calories_counter(l))"
   ]
  },
  {
   "cell_type": "markdown",
   "id": "binding-ideal",
   "metadata": {},
   "source": [
    "**Background and Objectives**\n",
    "Let’s use dictionarys to help us quickly convert Roman Numerals to integers. Take a look at [this table](https://loudexpose.files.wordpress.com/2011/02/roman-numerals.jpg) to brush up on Roman Numerals. Do you notice any patterns we could take advantage of?\n",
    "\n",
    "**Specs**\n",
    "Write a function `roman_to_int()` It should take one argument, a string, and convert it into its corresponding integer eg:\n",
    "\n",
    "- roman_to_int(‘IV’) #=> 4\n",
    "- roman_to_int(‘XVI’) #=> 16\n",
    "- roman_to_int(‘MI’) #=> 1001\n",
    "\n",
    "*Hint*: you might consider including 4/40/400 and 9/90/900 in your dictionary."
   ]
  },
  {
   "cell_type": "code",
   "execution_count": null,
   "id": "dynamic-tomato",
   "metadata": {},
   "outputs": [],
   "source": [
    "value = {'M': 1000, 'D': 500, 'C': 100,\n",
    "         'L': 50, 'X': 10, 'V': 5, 'I': 1}"
   ]
  },
  {
   "cell_type": "code",
   "execution_count": null,
   "id": "occupied-reaction",
   "metadata": {},
   "outputs": [],
   "source": [
    "def roman_to_int(r):\n",
    "    pre = 0\n",
    "    ans = 0\n",
    " \n",
    "    n = len(r)\n",
    "    for i in range(n-1, -1, -1):\n",
    "        if value[r[i]] >= pre:\n",
    "            ans += value[r[i]]\n",
    "        else:\n",
    "            ans -= value[r[i]]\n",
    " \n",
    "        pre = value[r[i]]\n",
    " \n",
    "    print(ans)"
   ]
  },
  {
   "cell_type": "code",
   "execution_count": null,
   "id": "given-recruitment",
   "metadata": {},
   "outputs": [],
   "source": [
    "print(roman_to_int('VI'))    # 6  \n",
    "print(roman_to_int('D'))     # 500\n",
    "print(roman_to_int('XCIX'))  # 99\n",
    "print(roman_to_int('XLII'))  # 42\n",
    "print(roman_to_int('MCXCI')) # 1191"
   ]
  },
  {
   "cell_type": "markdown",
   "id": "under-wrapping",
   "metadata": {},
   "source": [
    "# Day 4\n",
    "\n",
    "**OOP (Object Oriented Programming)**\n",
    "\n",
    "*Data* + *Behavior* for every object. For example in strings:\n",
    "We already have used built-in classes like `str`.\n",
    "\n",
    "- sentence = \"hello world\"\n",
    "- sentence = str(\"hello world\")\n",
    "\n",
    "*Data* (or State) = the list of characters\n",
    "\n",
    "- sentence **.upper()**\n",
    "\n",
    "*Behavior* = the set of functions which can act on the list of characters (upper() here)\n",
    "\n",
    "---\n",
    "\n",
    "- A `class` is like a cake mold. It helps create a cake but is not a cake.\n",
    "- An `instance` of a class is a cake created from a given cake mold\n",
    "\n",
    "---\n",
    "\n",
    "**Self**\n",
    "self refers to the instance on which the instance function has been called"
   ]
  },
  {
   "cell_type": "code",
   "execution_count": null,
   "id": "documented-analysis",
   "metadata": {},
   "outputs": [],
   "source": [
    "class Castle:\n",
    "    def __init__(self, name, ruler):\n",
    "        self.name = name\n",
    "        self.ruler = ruler\n",
    "    \n",
    "    def ruler_name(self):\n",
    "        return self.ruler.capitalize()\n",
    "    \n",
    "    def castle_details(self):\n",
    "        return f'{self.name} is ruled by {self.ruler_name()}'\n",
    "\n",
    "dragonstone = Castle(\"Dragonstone\", \"targaryen\")\n",
    "dragonstone.castle_details() # => \"Dragonstone is ruled by Targaryen\""
   ]
  },
  {
   "cell_type": "markdown",
   "id": "relevant-jurisdiction",
   "metadata": {},
   "source": [
    "### Morning challenges from CodeWars"
   ]
  },
  {
   "cell_type": "markdown",
   "id": "departmental-grace",
   "metadata": {},
   "source": [
    "[**Classy Classes**](https://www.codewars.com/kata/55a144eff5124e546400005a/python)\n",
    "Your task is to complete this Class, the Person class has been created. You must fill in the Constructor method to accept a name as string and an age as number, complete the get Info property and getInfo method/Info getter which should return johns age is 34"
   ]
  },
  {
   "cell_type": "code",
   "execution_count": null,
   "id": "friendly-wages",
   "metadata": {},
   "outputs": [],
   "source": [
    "class Person:\n",
    "    def __init__(self, name, age):\n",
    "        self.name = name\n",
    "        self.age = age\n",
    "        self.info = f\"{self.name}s age is {self.age}\""
   ]
  },
  {
   "cell_type": "code",
   "execution_count": null,
   "id": "streaming-grounds",
   "metadata": {},
   "outputs": [],
   "source": [
    "girl = Person('gabi', 33)\n",
    "print(f\"{girl.name.capitalize()} is {girl.age} years old\")"
   ]
  },
  {
   "cell_type": "markdown",
   "id": "saving-judge",
   "metadata": {},
   "source": [
    "[**Regular Ball Super Ball**](https://www.codewars.com/kata/53f0f358b9cb376eca001079/python) Create a class Ball. Ball objects should accept one argument for \"ball type\" when instantiated. If no arguments are given, ball objects should instantiate with a \"ball type\" of \"regular.\""
   ]
  },
  {
   "cell_type": "code",
   "execution_count": null,
   "id": "crude-argentina",
   "metadata": {},
   "outputs": [],
   "source": [
    "class Ball:\n",
    "    def __init__(self, ball_type='regular'):\n",
    "        self.ball_type = ball_type"
   ]
  },
  {
   "cell_type": "markdown",
   "id": "electrical-sharp",
   "metadata": {},
   "source": [
    "[**Object Oriented Piracy**](https://www.codewars.com/kata/54fe05c4762e2e3047000add/train/python) Ahoy matey!\n",
    "\n",
    "You are a leader of a small pirate crew. And you have a plan. With the help of OOP you wish to make a pretty efficient system to identify ships with a heavy booty on board.\n",
    "\n",
    "Unfortunately for you, people weigh a lot these days, so how do you know if a ship if full of gold and not people?\n",
    "\n",
    "Every time your spies see a new ship enter the dock, they will create a new ship object based on their observations:\n",
    "\n",
    "- draft - an estimate of the ship's weight based on how low it is in the water\n",
    "- crew - the count of crew on board\n",
    "- Titanic = Ship(15, 10)\n",
    "\n",
    "Taking into account that an average crew member on board adds 1.5 units to the draft, a ship that has a draft of more than 20 without crew is considered worthy to loot. Any ship weighing that much must have a lot of booty!"
   ]
  },
  {
   "cell_type": "code",
   "execution_count": null,
   "id": "composite-accent",
   "metadata": {},
   "outputs": [],
   "source": [
    "class Ship:\n",
    "    def __init__(self, draft, crew):\n",
    "        self.draft = draft\n",
    "        self.crew = crew\n",
    "        \n",
    "    def is_worth_it(self):\n",
    "        return self.draft - (self.crew * 1.5) > 20"
   ]
  },
  {
   "cell_type": "code",
   "execution_count": null,
   "id": "packed-uzbekistan",
   "metadata": {},
   "outputs": [],
   "source": [
    "titanic = Ship(15, 10)\n",
    "titanic.is_worth_it()"
   ]
  },
  {
   "cell_type": "markdown",
   "id": "advance-enlargement",
   "metadata": {},
   "source": [
    "[**Sleigh Authentication**](https://www.codewars.com/kata/52adc142b2651f25a8000643/python)\n",
    "Christmas is coming and many people dreamed of having a ride with Santa's sleigh. But, of course, only Santa himself is allowed to use this wonderful transportation. And in order to make sure, that only he can board the sleigh, there's an authentication mechanism.\n",
    "\n",
    "Your task is to implement the authenticate() method of the sleigh, which takes the name of the person, who wants to board the sleigh and a secret password. If, and only if, the name equals \"Santa Claus\" and the password is \"Ho Ho Ho!\" (yes, even Santa has a secret password with uppercase and lowercase letters and special characters :D), the return value must be `true`. Otherwise it should return `false`."
   ]
  },
  {
   "cell_type": "code",
   "execution_count": null,
   "id": "norman-arnold",
   "metadata": {},
   "outputs": [],
   "source": [
    "# did not work, why????\n",
    "class Sleigh:\n",
    "    def __init__(self, name, password):\n",
    "        self.name = name\n",
    "        self.password = password\n",
    "    \n",
    "    def authenticate(self):\n",
    "        return self.name == 'Santa Claus' and self.password == 'Ho Ho Ho!'"
   ]
  },
  {
   "cell_type": "code",
   "execution_count": null,
   "id": "exotic-harvard",
   "metadata": {},
   "outputs": [],
   "source": [
    "s = Sleigh()\n",
    "s.authenticate('Santa Claus', 'Ho Ho Ho!')"
   ]
  },
  {
   "cell_type": "code",
   "execution_count": null,
   "id": "german-evans",
   "metadata": {},
   "outputs": [],
   "source": [
    "# solution\n",
    "class Sleigh(object):\n",
    "    def authenticate(self, name, password):\n",
    "        return name == 'Santa Claus' and password == 'Ho Ho Ho!'"
   ]
  },
  {
   "cell_type": "code",
   "execution_count": null,
   "id": "available-english",
   "metadata": {},
   "outputs": [],
   "source": [
    "s = Sleigh()\n",
    "s.authenticate('Santa Claus', 'Ho Ho Ho!')"
   ]
  },
  {
   "cell_type": "markdown",
   "id": "referenced-linux",
   "metadata": {},
   "source": [
    "[**User Class for Banking System**](https://www.codewars.com/kata/5a03af9606d5b65ff7000009/python) \n",
    "A company is opening a bank, but the coder who is designing the user class made some errors. They need you to help them.\n",
    "\n",
    "You must include the following:\n",
    "\n",
    "    - A withdraw method\n",
    "        - Subtracts money from balance\n",
    "        - One parameter, money to withdraw\n",
    "        - Raise a ValueError if there isn't enough money to withdraw\n",
    "        - Return a string with name and balance(see examples)\n",
    "        \n",
    "    - A check method\n",
    "        - Adds money to balance\n",
    "        - Two parameters, other user and money\n",
    "        - Other user will always be valid\n",
    "        - Raise a ValueError if other user doesn't have enough money\n",
    "        - Raise a ValueError if checking_account isn't true for other user\n",
    "        - Return a string with name and balance plus other name and other balance(see examples)\n",
    "        \n",
    "    - An add_cash method\n",
    "        - Adds money to balance\n",
    "        - One parameter, money to add\n",
    "        - Return a string with name and balance(see examples)\n",
    "\n",
    "    - Additional Notes:\n",
    "        - Checking_account should be stored as a boolean\n",
    "        - No input numbers will be negative\n",
    "        - Output must end with a period\n",
    "        - Float numbers will not be used so, balance should be integer\n",
    "        - No currency will be used"
   ]
  },
  {
   "cell_type": "code",
   "execution_count": null,
   "id": "lined-sitting",
   "metadata": {},
   "outputs": [],
   "source": [
    "# solution 1\n",
    "class User(object):\n",
    "    def __init__(self, name, balance, checking_account):\n",
    "        self.name = name\n",
    "        self.balance = balance\n",
    "        self.checking_account = checking_account\n",
    "    \n",
    "    def withdraw(self, v):\n",
    "        if v > self.balance: raise ValueError()\n",
    "        self.balance -= v\n",
    "        return \"{} has {}.\".format(self.name, int(self.balance))\n",
    "    \n",
    "    def add_cash(self, v):\n",
    "        self.balance += v\n",
    "        return \"{} has {}.\".format(self.name, int(self.balance))\n",
    "    \n",
    "    def check(self, other, v):\n",
    "        if not other.checking_account: raise ValueError()\n",
    "        s1 = other.withdraw(v)\n",
    "        s2 = self.add_cash(v)[:-1]\n",
    "        return \"{} and {}\".format(s2,s1)\n",
    "    \n",
    "    def __str__(self): return \"User({}, {}, {})\".format(self.name, self.balance, self.checking_account)"
   ]
  },
  {
   "cell_type": "code",
   "execution_count": null,
   "id": "funded-contractor",
   "metadata": {},
   "outputs": [],
   "source": [
    "# solution 2\n",
    "class User(object):\n",
    "\n",
    "    def __init__(self, name, balance, checking_account):\n",
    "        self.name = name\n",
    "        self.balance = int(balance)\n",
    "        self.checking_account = checking_account\n",
    "    \n",
    "    def  withdraw(self, amount):\n",
    "        if amount > self.balance:\n",
    "            raise ValueError\n",
    "        self.balance = int(self.balance - amount)\n",
    "        return f\"{self.name} has {self.balance}.\"\n",
    "    \n",
    "    def check(self, other, amount):\n",
    "        if not other.checking_account or amount > other.balance:\n",
    "            raise ValueError\n",
    "        other.balance = int(other.balance - amount)\n",
    "        self.balance = int(self.balance + amount)\n",
    "        return f\"{self.name} has {self.balance} and {other.name} has {other.balance}.\"\n",
    "        \n",
    "    def add_cash(self, amount):\n",
    "        self.balance = int(self.balance + amount)\n",
    "        return f\"{self.name} has {self.balance}.\""
   ]
  },
  {
   "cell_type": "markdown",
   "id": "damaged-richardson",
   "metadata": {},
   "source": [
    "[**Potion 101**](https://www.codewars.com/kata/5981ff1daf72e8747d000091/python)\n",
    "**Description**\n",
    "This is your first potion class in Hogwarts and professor gave you a homework to figure out what color potion will turn into if he'll mix it with some other potion. All potions have some color that written down as RGB color from [0, 0, 0] to [255, 255, 255]. To make task more complicated teacher will do few mixing and after will ask you for final color. Besides color you also need to figure out what volume will have potion after final mix.\n",
    "\n",
    "**Task**\n",
    "Based on your programming background you managed to figure that after mixing two potions colors will mix as if mix two RGB colors. For example, if you'll mix potion that have color [255, 255, 0] and volume 10 with one that have color [0, 254, 0] and volume 5, you'll get new potion with color [170, 255, 0] and volume 15. So you decided to create a class Potion that will have two properties: color (a list with 3 integers) and volume (a number), and one method mix that will accept another Potion and return a mixed Potion.\n",
    "\n",
    "- felix_felicis       =  Potion([255, 255, 255],  7)\n",
    "- shrinking_solution  =  Potion([ 51, 102,  51], 12)\n",
    "- new_potion          =  felix_felicis.mix(shrinking_solution)\n",
    "\n",
    "- new_potion.color   ==  [127, 159, 127]\n",
    "- new_potion.volume  ==  19"
   ]
  },
  {
   "cell_type": "code",
   "execution_count": 132,
   "id": "6b7c74d8",
   "metadata": {},
   "outputs": [],
   "source": [
    "from math import ceil\n",
    "class Potion:\n",
    "    def __init__(self, color, volume):\n",
    "        self.color = color     # list\n",
    "        self.volume = volume   # int\n",
    "        \n",
    "    def mix(self, other):\n",
    "        c1 = ceil(((self.color[0]*self.volume) + (other.color[0]*other.volume)) / (self.volume + other.volume)) \n",
    "        c2 = ceil(((self.color[1]*self.volume) + (other.color[1]*other.volume)) / (self.volume + other.volume))\n",
    "        c3 = ceil(((self.color[2]*self.volume) + (other.color[2]*other.volume)) / (self.volume + other.volume))\n",
    "        \n",
    "        v = self.volume + other.volume\n",
    "        \n",
    "        return Potion((c1, c2, c3), v)"
   ]
  },
  {
   "cell_type": "code",
   "execution_count": 133,
   "id": "5ba806e0",
   "metadata": {},
   "outputs": [],
   "source": [
    "felix_felicis = Potion([255, 255, 255], 7)\n",
    "shrinking_solution = Potion([51, 102, 51], 12)"
   ]
  },
  {
   "cell_type": "code",
   "execution_count": 134,
   "id": "42d8c00f",
   "metadata": {},
   "outputs": [
    {
     "data": {
      "text/plain": [
       "<__main__.Potion at 0x7faf2376ec70>"
      ]
     },
     "execution_count": 134,
     "metadata": {},
     "output_type": "execute_result"
    }
   ],
   "source": [
    "new_potion = felix_felicis.mix(shrinking_solution)\n",
    "new_potion"
   ]
  },
  {
   "cell_type": "markdown",
   "id": "8ca4c80b",
   "metadata": {},
   "source": [
    "**Background and Objectives**\n",
    "Let’s create an OrangeTree class which models the life of an orange tree (its birth, life cycle and death). Our class should incluce the following attributes: age, height, fruits, all integers, and dead a boolean.\n",
    "\n",
    "To simulate time passing, you will need to implement the following instance method:\n",
    "\n",
    "one_year_passes\n",
    "pick_a_fruit\n",
    "def one_year_passes(self):\n",
    "\n",
    "**Specs**\n",
    "- Each year, the tree should age by 1 year (it becomes older and taller, and eventually dies).\n",
    "- A tree grows 1 meter per year up to and including the 10th year. Then it stops growing\n",
    "- The orange tree cannot die until it reaches 50 years old.\n",
    "- After 50 years, the probability of dying increases each year Pyhon’s random library might come in handy 😉.\n",
    "- No tree can live more than 100 years.\n",
    "- A tree will produce 100 fruits a year once it is more than 5 years old.\n",
    "- A tree will produce 200 fruits a year when it reaches 10 years old.\n",
    "- A tree will not produce fruits once it reaches 15 years old.\n",
    "- You should be able to pick a single fruit from the tree by calling the pick_a_fruit method on your tree (but only if there are some left).\n",
    "- At the end of each year, the fruits which have not been picked will fall off."
   ]
  },
  {
   "cell_type": "code",
   "execution_count": 174,
   "id": "f3ebba68",
   "metadata": {},
   "outputs": [],
   "source": [
    "import random\n",
    "\n",
    "class OrangeTree():\n",
    "    def __init__(self):\n",
    "        self.age = 0\n",
    "        self.height = 0\n",
    "        self.fruits = 0\n",
    "        self.dead = False\n",
    "    \n",
    "    def one_year_passes(self):\n",
    "        self.age += 1\n",
    "        if self.age <= 10:\n",
    "            self.height += 1\n",
    "        if self.age == 100:\n",
    "            self.dead = True\n",
    "        if self.age > 50:\n",
    "            self.dead = random.choices([False, True], weights=[50, self.age], k=1)[0]\n",
    "        if self.age > 5 and self.age < 10:\n",
    "            self.fruits = 100\n",
    "        if self.age >= 10 and self.age < 15:\n",
    "            self.fruits = 200\n",
    "        if self.age == 15:\n",
    "            self.fruits = 0\n",
    "\n",
    "    def pick_a_fruit(self):\n",
    "        if self.fruits:\n",
    "            self.fruits -= 1"
   ]
  },
  {
   "cell_type": "markdown",
   "id": "10c33bd0",
   "metadata": {},
   "source": [
    "**Background & Objectives**\n",
    "self is an important concept to understand when working with classes. By using the self keyword we can access the attributes and methods of the class in python. It helps us to represent the instance of the class that is passing through our methods.\n",
    "\n",
    "Here we have an incorreclty constructed Cat class with three different methods which are being used to update an instance’s attributes:\n",
    "\n",
    "- age_10_years\n",
    "- gain_weight\n",
    "- turn_grey\n",
    "\n",
    "**Specs**\n",
    "Get the winning combination\n",
    "\n",
    "Update the Cat class by placing the self keyword where needed\n",
    "No new methods are needed\n",
    "The class is correct when you run the file and see the following print out in the terminal:\n",
    "\n",
    "\n",
    "\"My 1 year old cat weighs 5 pounds and is brown.  Come back in a few years and see how he is doing\"\n",
    "--------------------10 years later----------------------\n",
    "\"My 10 year old cat now weighs 20 pounds and is grey \"\n",
    "\n",
    "*Hint* - notice that the instance methods are being chained 🤔, chaining will be an important part of our machine learning pipelines in the future. [This](https://www.tutorialspoint.com/Explain-Python-class-method-chaining) article on method chaining may help."
   ]
  },
  {
   "cell_type": "code",
   "execution_count": 169,
   "id": "5781c79d",
   "metadata": {},
   "outputs": [],
   "source": [
    "class Cat:\n",
    "    def __init__(self, age=1, color='brown', weight=5):\n",
    "        self.age = age\n",
    "        self.color = color\n",
    "        self.weight = weight\n",
    "\n",
    "    def age_10_years(self):\n",
    "        self.age += 9\n",
    "        return self\n",
    "\n",
    "    def gain_weight(self):\n",
    "        self.weight += 15\n",
    "        return self\n",
    "        \n",
    "    def turn_grey(self):\n",
    "        self.color = 'grey'\n",
    "        return self"
   ]
  },
  {
   "cell_type": "code",
   "execution_count": 170,
   "id": "d86e7acb",
   "metadata": {},
   "outputs": [],
   "source": [
    "cat = Cat()"
   ]
  },
  {
   "cell_type": "code",
   "execution_count": 171,
   "id": "7c05a72b",
   "metadata": {},
   "outputs": [
    {
     "name": "stdout",
     "output_type": "stream",
     "text": [
      "My 1 year old cat weighs 5 pounds and is brown.  Come back in a few years and see how he is doing.\n",
      "--------------------10 years later----------------------\n",
      "My 10 year old cat now weighs 20 pounds and is grey\n"
     ]
    }
   ],
   "source": [
    "print(f\"My {cat.age} year old cat weighs {cat.weight} pounds and is {cat.color}.  Come back in a few years and see how he is doing.\")\n",
    "cat.age_10_years().gain_weight().turn_grey()\n",
    "print(\"--------------------10 years later----------------------\")\n",
    "print(f\"My {cat.age} year old cat now weighs {cat.weight} pounds and is {cat.color}\")"
   ]
  },
  {
   "cell_type": "markdown",
   "id": "e01cb3e0",
   "metadata": {},
   "source": [
    "**Background & Objectives**\n",
    "Suppose you have students (defined by the class Student) who each have an amount of money (in bills of five, ten and twenty euro). We want to be able to compare them based on their wealth. Let’s create a class Student which will store all their information and help with comparing\n",
    "\n",
    "**Specs**\n",
    "When initializing a Student, you should require 4 additional arguments, the student’s name and the number of bills they own (fives, tens and twenties)\n",
    "Implement a wealth method on Student. When called it should return the total wealth of the student\n",
    "Implement a compare method which takes one argument, another student, and returns the name of the richer student\n",
    "\n",
    "**Optional**\n",
    "Implement an advanced_compare method which takes one argument, a list of students. When called, it should return a list of all the student’s names sorted from most wealthy to least wealthy….don’t forget to include the the student instance the method was called on in the sort 😉\n",
    "\n",
    "*Hint* - This stackoverflow post might help"
   ]
  },
  {
   "cell_type": "code",
   "execution_count": 175,
   "id": "0ee61f66",
   "metadata": {},
   "outputs": [],
   "source": [
    "class Student:\n",
    "    def __init__(self, name, fives, tens, twenties):\n",
    "        self.name = name\n",
    "        self.fives = fives\n",
    "        self.tens = tens\n",
    "        self.twenties = twenties\n",
    "        \n",
    "    def wealth(self):\n",
    "        self.wealth = (self.fives*5) + (self.tens*10) + (self.twenties*20)\n",
    "        return self.wealth\n",
    "    \n",
    "    def compare(self, other):\n",
    "        a = self.wealth\n",
    "        b = other.wealth\n",
    "        if a > b:\n",
    "            return self.name\n",
    "        else:\n",
    "            return other.name      "
   ]
  },
  {
   "cell_type": "markdown",
   "id": "7cad5083",
   "metadata": {},
   "source": [
    "## Day 5\n",
    "\n",
    "**Inheritance**\n",
    "Sometime, your classes share some behavior and states\n",
    "\n",
    "Imagine you had three classes, each one to create a different type of building:"
   ]
  },
  {
   "cell_type": "code",
   "execution_count": 176,
   "id": "6b781d02",
   "metadata": {},
   "outputs": [],
   "source": [
    "class House:\n",
    "    pass\n",
    "\n",
    "class Skyscraper:\n",
    "    pass\n",
    "\n",
    "class Castle:\n",
    "    pass"
   ]
  },
  {
   "cell_type": "markdown",
   "id": "396ad0d5",
   "metadata": {},
   "source": [
    "They share some properties\n",
    "\n",
    "- They all have a name\n",
    "- They all have a width and a length\n",
    "- For every building we have a way to calculate the floor area\n",
    "\n",
    "Thus, we could do:"
   ]
  },
  {
   "cell_type": "code",
   "execution_count": 190,
   "id": "c5af17d9",
   "metadata": {},
   "outputs": [],
   "source": [
    "class House:\n",
    "    def __init__(self, name, width, length):\n",
    "        self.name = name\n",
    "        self.width = width\n",
    "        self.length = length\n",
    "\n",
    "    def floor_area(self):\n",
    "        return self.width * self.length\n",
    "    \n",
    "class Castle:\n",
    "    def __init__(self, name, width, length):\n",
    "        self.name = name\n",
    "        self.width = width\n",
    "        self.length = length\n",
    "\n",
    "    def floor_area(self):\n",
    "        return self.width * self.length"
   ]
  },
  {
   "cell_type": "markdown",
   "id": "c308cd47",
   "metadata": {},
   "source": [
    "**DRY**\n",
    "\n",
    "**D**on't **R**epeat **Y**ourself. Houses, Castles and Skyscrapers are all buildings"
   ]
  },
  {
   "cell_type": "markdown",
   "id": "2b568fe3",
   "metadata": {},
   "source": [
    "**Inheritance**"
   ]
  },
  {
   "cell_type": "code",
   "execution_count": 192,
   "id": "f9e71bf7",
   "metadata": {},
   "outputs": [
    {
     "data": {
      "text/plain": [
       "1326"
      ]
     },
     "execution_count": 192,
     "metadata": {},
     "output_type": "execute_result"
    }
   ],
   "source": [
    "class Building:\n",
    "    def __init__(self, name, width, length):\n",
    "        self.name = name\n",
    "        self.width = width\n",
    "        self.length = length\n",
    "\n",
    "    def floor_area(self):\n",
    "        return self.width * self.length\n",
    "\n",
    "class Castle(Building):\n",
    "    pass\n",
    "\n",
    "class House(Building):\n",
    "    pass\n",
    "\n",
    "some_castle = Castle('Tower of London', 32, 35)\n",
    "some_castle.name #=> \"Tower of London\"\n",
    "some_castle.floor_area() #=> 1120\n",
    "\n",
    "some_house = House('White House', 26, 51)\n",
    "some_house.name #=> \"White House\"\n",
    "some_house.floor_area() #=> 1326"
   ]
  },
  {
   "cell_type": "markdown",
   "id": "9e6d5678",
   "metadata": {},
   "source": [
    "**Specific behavior Only a castle may have a butler**"
   ]
  },
  {
   "cell_type": "code",
   "execution_count": 193,
   "id": "f4852418",
   "metadata": {},
   "outputs": [
    {
     "data": {
      "text/plain": [
       "True"
      ]
     },
     "execution_count": 193,
     "metadata": {},
     "output_type": "execute_result"
    }
   ],
   "source": [
    "class Castle(Building):\n",
    "    def __init__(self, name, width, length):\n",
    "        super().__init__(name, width, length)\n",
    "        self.butler = None\n",
    "\n",
    "    def has_a_butler(self):\n",
    "        return self.butler is not None\n",
    "\n",
    "some_castle = Castle('Chambord', 156, 117)\n",
    "some_castle.has_a_butler() # => False\n",
    "some_castle.butler = \"George\"\n",
    "some_castle.has_a_butler() # => True"
   ]
  },
  {
   "cell_type": "code",
   "execution_count": 194,
   "id": "4d182353",
   "metadata": {},
   "outputs": [
    {
     "ename": "AttributeError",
     "evalue": "'House' object has no attribute 'has_a_butler'",
     "output_type": "error",
     "traceback": [
      "\u001b[0;31m---------------------------------------------------------------------------\u001b[0m",
      "\u001b[0;31mAttributeError\u001b[0m                            Traceback (most recent call last)",
      "\u001b[0;32m<ipython-input-194-c08fd3f3a770>\u001b[0m in \u001b[0;36m<module>\u001b[0;34m\u001b[0m\n\u001b[1;32m      1\u001b[0m \u001b[0msome_house\u001b[0m \u001b[0;34m=\u001b[0m \u001b[0mHouse\u001b[0m\u001b[0;34m(\u001b[0m\u001b[0;34m'White House'\u001b[0m\u001b[0;34m,\u001b[0m \u001b[0;36m26\u001b[0m\u001b[0;34m,\u001b[0m \u001b[0;36m51\u001b[0m\u001b[0;34m)\u001b[0m\u001b[0;34m\u001b[0m\u001b[0;34m\u001b[0m\u001b[0m\n\u001b[0;32m----> 2\u001b[0;31m \u001b[0msome_house\u001b[0m\u001b[0;34m.\u001b[0m\u001b[0mhas_a_butler\u001b[0m\u001b[0;34m(\u001b[0m\u001b[0;34m)\u001b[0m \u001b[0;31m#=> AttributeError: 'House' object has no attribute 'has_a_butler'\u001b[0m\u001b[0;34m\u001b[0m\u001b[0;34m\u001b[0m\u001b[0m\n\u001b[0m",
      "\u001b[0;31mAttributeError\u001b[0m: 'House' object has no attribute 'has_a_butler'"
     ]
    }
   ],
   "source": [
    "some_house = House('White House', 26, 51)\n",
    "some_house.has_a_butler() #=> AttributeError: 'House' object has no attribute 'has_a_butler'"
   ]
  },
  {
   "cell_type": "markdown",
   "id": "67ecbc6c",
   "metadata": {},
   "source": [
    "**Change an inherited method**\n",
    "\n",
    "With the **super** keyword, which calls the parent’s method with the same name."
   ]
  },
  {
   "cell_type": "code",
   "execution_count": 196,
   "id": "10e99834",
   "metadata": {},
   "outputs": [
    {
     "data": {
      "text/plain": [
       "1420"
      ]
     },
     "execution_count": 196,
     "metadata": {},
     "output_type": "execute_result"
    }
   ],
   "source": [
    "class Castle(Building):\n",
    "  # A castle always has a garden of 300 sq. m\n",
    "    def floor_area(self):\n",
    "        return super().floor_area() + 300  # `super` calls `floor_area` of `Building`\n",
    "\n",
    "some_castle = Castle('Tower of London', 32, 35)\n",
    "some_castle.floor_area() # => 1420"
   ]
  },
  {
   "cell_type": "markdown",
   "id": "9e885911",
   "metadata": {},
   "source": [
    "**Summary**\n",
    "- Inheritance is used when classes need to share behavior and properties\n",
    "- Subclasses inherit functions and instance attributes from parents\n",
    "- On top of that, subclasses can define more instance attributes and functions\n",
    "- Use super() to access the parent class"
   ]
  },
  {
   "cell_type": "code",
   "execution_count": null,
   "id": "78b5b9df",
   "metadata": {},
   "outputs": [],
   "source": []
  },
  {
   "cell_type": "code",
   "execution_count": null,
   "id": "e853496f",
   "metadata": {},
   "outputs": [],
   "source": []
  },
  {
   "cell_type": "code",
   "execution_count": null,
   "id": "d256f84d",
   "metadata": {},
   "outputs": [],
   "source": []
  },
  {
   "cell_type": "code",
   "execution_count": null,
   "id": "34b751f8",
   "metadata": {},
   "outputs": [],
   "source": []
  },
  {
   "cell_type": "code",
   "execution_count": null,
   "id": "c7e8c59d",
   "metadata": {},
   "outputs": [],
   "source": []
  },
  {
   "cell_type": "code",
   "execution_count": null,
   "id": "27329b64",
   "metadata": {},
   "outputs": [],
   "source": []
  },
  {
   "cell_type": "code",
   "execution_count": null,
   "id": "eefe6f0c",
   "metadata": {},
   "outputs": [],
   "source": []
  },
  {
   "cell_type": "code",
   "execution_count": null,
   "id": "d763ef8b",
   "metadata": {},
   "outputs": [],
   "source": []
  },
  {
   "cell_type": "code",
   "execution_count": null,
   "id": "46ff6b55",
   "metadata": {},
   "outputs": [],
   "source": []
  },
  {
   "cell_type": "code",
   "execution_count": null,
   "id": "15186dac",
   "metadata": {},
   "outputs": [],
   "source": []
  },
  {
   "cell_type": "code",
   "execution_count": null,
   "id": "87a18032",
   "metadata": {},
   "outputs": [],
   "source": []
  },
  {
   "cell_type": "code",
   "execution_count": null,
   "id": "d9ab45e8",
   "metadata": {},
   "outputs": [],
   "source": []
  },
  {
   "cell_type": "code",
   "execution_count": null,
   "id": "95c2384e",
   "metadata": {},
   "outputs": [],
   "source": []
  },
  {
   "cell_type": "code",
   "execution_count": null,
   "id": "5e86dd9f",
   "metadata": {},
   "outputs": [],
   "source": []
  },
  {
   "cell_type": "code",
   "execution_count": null,
   "id": "ddba9860",
   "metadata": {},
   "outputs": [],
   "source": []
  },
  {
   "cell_type": "code",
   "execution_count": null,
   "id": "36880f36",
   "metadata": {},
   "outputs": [],
   "source": []
  },
  {
   "cell_type": "code",
   "execution_count": null,
   "id": "structural-measurement",
   "metadata": {},
   "outputs": [],
   "source": []
  },
  {
   "cell_type": "code",
   "execution_count": null,
   "id": "eight-property",
   "metadata": {},
   "outputs": [],
   "source": []
  },
  {
   "cell_type": "code",
   "execution_count": null,
   "id": "continuing-french",
   "metadata": {},
   "outputs": [],
   "source": []
  },
  {
   "cell_type": "code",
   "execution_count": null,
   "id": "competitive-baseball",
   "metadata": {},
   "outputs": [],
   "source": []
  },
  {
   "cell_type": "code",
   "execution_count": null,
   "id": "breeding-missile",
   "metadata": {},
   "outputs": [],
   "source": []
  },
  {
   "cell_type": "code",
   "execution_count": null,
   "id": "unlikely-victim",
   "metadata": {},
   "outputs": [],
   "source": []
  },
  {
   "cell_type": "code",
   "execution_count": null,
   "id": "sexual-disney",
   "metadata": {},
   "outputs": [],
   "source": []
  },
  {
   "cell_type": "code",
   "execution_count": null,
   "id": "peaceful-bumper",
   "metadata": {},
   "outputs": [],
   "source": []
  },
  {
   "cell_type": "code",
   "execution_count": 80,
   "id": "shared-clear",
   "metadata": {},
   "outputs": [],
   "source": [
    "import random\n",
    "class OrangeTree:\n",
    "    def __init__ (self, age=0, height=0, fruits=0, dead=False):\n",
    "        self.age = age        # int\n",
    "        self.height = height  # int\n",
    "        self.fruits = fruits  # int\n",
    "        self.dead = dead      # bool\n",
    "    \n",
    "    # ageing\n",
    "    def one_year_passes(self): \n",
    "        if self.age < 100:\n",
    "            new_age = self.age + 1\n",
    "            return new_age\n",
    "        else:\n",
    "            self.dead = True\n",
    "\n",
    "    # growing\n",
    "    def growing(self):\n",
    "        if self.age <= 10:\n",
    "            self.height = self.age\n",
    "            return self.height\n",
    "        else:\n",
    "            self.height = 10\n",
    "            return self.height\n",
    "        \n",
    "    # ageing\n",
    "    def dying(self):\n",
    "        if self.age <= 50:\n",
    "                self.dead = False\n",
    "        else:\n",
    "            p = random.random(new_age, 100) # 100 == dead\n",
    "            if p == 100:   \n",
    "                self.dead = True\n",
    "        \n",
    "    # producing\n",
    "    def fruiting(self):\n",
    "        if (new_age < 5) or (new_age >= 15) or (self.dead == True):\n",
    "            self.fruits = 0\n",
    "        elif (new_age > 5) and (new_age < 10):\n",
    "            self.fruits = 100\n",
    "        elif (new_age >= 10) and (new_age < 15):\n",
    "            self.fruits = 200\n",
    "    \n",
    "    # picking\n",
    "    def pick_a_fruit(self):\n",
    "        if self.fruits == 0:\n",
    "            return 0\n",
    "        else:\n",
    "            return 1"
   ]
  },
  {
   "cell_type": "code",
   "execution_count": null,
   "id": "native-accent",
   "metadata": {},
   "outputs": [],
   "source": []
  },
  {
   "cell_type": "code",
   "execution_count": null,
   "id": "hearing-ordinary",
   "metadata": {},
   "outputs": [],
   "source": []
  },
  {
   "cell_type": "code",
   "execution_count": null,
   "id": "fatal-aquatic",
   "metadata": {},
   "outputs": [],
   "source": []
  },
  {
   "cell_type": "code",
   "execution_count": null,
   "id": "assigned-stand",
   "metadata": {},
   "outputs": [],
   "source": []
  },
  {
   "cell_type": "code",
   "execution_count": null,
   "id": "satellite-adapter",
   "metadata": {},
   "outputs": [],
   "source": []
  },
  {
   "cell_type": "code",
   "execution_count": null,
   "id": "exterior-audit",
   "metadata": {},
   "outputs": [],
   "source": []
  }
 ],
 "metadata": {
  "kernelspec": {
   "display_name": "Python 3",
   "language": "python",
   "name": "python3"
  },
  "language_info": {
   "codemirror_mode": {
    "name": "ipython",
    "version": 3
   },
   "file_extension": ".py",
   "mimetype": "text/x-python",
   "name": "python",
   "nbconvert_exporter": "python",
   "pygments_lexer": "ipython3",
   "version": "3.8.8"
  }
 },
 "nbformat": 4,
 "nbformat_minor": 5
}
